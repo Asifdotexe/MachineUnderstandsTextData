{
 "cells": [
  {
   "cell_type": "code",
   "execution_count": 18,
   "metadata": {},
   "outputs": [],
   "source": [
    "import re\n",
    "import nltk\n",
    "from nltk.corpus import stopwords\n",
    "from collections import Counter\n",
    "import matplotlib.pyplot as plt\n",
    "from wordcloud import WordCloud\n",
    "\n",
    "nltk.download('punkt')\n",
    "nltk.download('stopwords')"
   ]
  },
  {
   "cell_type": "code",
   "execution_count": 26,
   "metadata": {},
   "outputs": [],
   "source": [
    "corpus = (\"\"\"\"Dear Students,\n",
    "\n",
    "We are thrilled to announce an exclusive opportunity for talented students to join Flipkart, a leading e-commerce giant!\n",
    "\n",
    "Flipkart is hosting its flagship challenge, Flipkart GRiD 6.0, seeking passionate and skilled individuals for full-time SDE roles and internship positions.\n",
    "\n",
    "Here's what awaits you:\n",
    "\n",
    "Full-Time SDE Roles:\n",
    "The competitive salary package of INR 32 LPA.\n",
    "Opportunity to contribute to cutting-edge projects and technologies that drive e-commerce innovation\n",
    "Be part of a dynamic and collaborative team environment.\n",
    "\n",
    "Internships:\n",
    "A lucrative stipend of INR 1 lakh per month.\n",
    "Gain invaluable hands-on experience working on real-world engineering challenges.\n",
    "Build your skills and network within a leading technology company.\n",
    "\n",
    "Eligibility:\n",
    "Open to all students enrolled in batches 2025, 2026, 2027, and 2028.\n",
    "\n",
    "How to Apply:\n",
    "Showcase your talent and problem-solving skills by participating in the Flipkart GRiD 6.0 challenge\n",
    "Apply through the application link: https://bit.ly/flipkartgrid6\n",
    "\n",
    "Don't miss this chance! This is an exceptional opportunity to kick-start your career with a leading e-commerce company and contribute to the future of online shopping.\n",
    "\n",
    "We encourage you to seize this exciting opportunity. We believe in your potential and wish you the very best in your endeavors!\n",
    "\n",
    "Thanks and Regards\n",
    "Rahul Jadhav\n",
    "SDBI\"\"\")"
   ]
  },
  {
   "cell_type": "code",
   "execution_count": 27,
   "metadata": {},
   "outputs": [
    {
     "name": "stdout",
     "output_type": "stream",
     "text": [
      "\"dear students,\n",
      "\n",
      "we are thrilled to announce an exclusive opportunity for talented students to join flipkart, a leading e-commerce giant!\n",
      "\n",
      "flipkart is hosting its flagship challenge, flipkart grid 6.0, seeking passionate and skilled individuals for full-time sde roles and internship positions.\n",
      "\n",
      "here's what awaits you:\n",
      "\n",
      "full-time sde roles:\n",
      "the competitive salary package of inr 32 lpa.\n",
      "opportunity to contribute to cutting-edge projects and technologies that drive e-commerce innovation\n",
      "be part of a dynamic and collaborative team environment.\n",
      "\n",
      "internships:\n",
      "a lucrative stipend of inr 1 lakh per month.\n",
      "gain invaluable hands-on experience working on real-world engineering challenges.\n",
      "build your skills and network within a leading technology company.\n",
      "\n",
      "eligibility:\n",
      "open to all students enrolled in batches 2025, 2026, 2027, and 2028.\n",
      "\n",
      "how to apply:\n",
      "showcase your talent and problem-solving skills by participating in the flipkart grid 6.0 challenge\n",
      "apply through the application link: https://bit.ly/flipkartgrid6\n",
      "\n",
      "don't miss this chance! this is an exceptional opportunity to kick-start your career with a leading e-commerce company and contribute to the future of online shopping.\n",
      "\n",
      "we encourage you to seize this exciting opportunity. we believe in your potential and wish you the very best in your endeavors!\n",
      "\n",
      "thanks and regards\n",
      "rahul jadhav\n",
      "sdbi\n"
     ]
    }
   ],
   "source": [
    "# converting text to lowercase\n",
    "corpus = corpus.lower()\n",
    "# df = df.applymap(lambda x: x.lower() if isinstance(x, str) else x) # for dataframe\n",
    "print(corpus)"
   ]
  },
  {
   "cell_type": "code",
   "execution_count": 28,
   "metadata": {},
   "outputs": [
    {
     "name": "stdout",
     "output_type": "stream",
     "text": [
      "dear students\n",
      "\n",
      "we are thrilled to announce an exclusive opportunity for talented students to join flipkart a leading ecommerce giant\n",
      "\n",
      "flipkart is hosting its flagship challenge flipkart grid 60 seeking passionate and skilled individuals for fulltime sde roles and internship positions\n",
      "\n",
      "heres what awaits you\n",
      "\n",
      "fulltime sde roles\n",
      "the competitive salary package of inr 32 lpa\n",
      "opportunity to contribute to cuttingedge projects and technologies that drive ecommerce innovation\n",
      "be part of a dynamic and collaborative team environment\n",
      "\n",
      "internships\n",
      "a lucrative stipend of inr 1 lakh per month\n",
      "gain invaluable handson experience working on realworld engineering challenges\n",
      "build your skills and network within a leading technology company\n",
      "\n",
      "eligibility\n",
      "open to all students enrolled in batches 2025 2026 2027 and 2028\n",
      "\n",
      "how to apply\n",
      "showcase your talent and problemsolving skills by participating in the flipkart grid 60 challenge\n",
      "apply through the application link httpsbitlyflipkartgrid6\n",
      "\n",
      "dont miss this chance this is an exceptional opportunity to kickstart your career with a leading ecommerce company and contribute to the future of online shopping\n",
      "\n",
      "we encourage you to seize this exciting opportunity we believe in your potential and wish you the very best in your endeavors\n",
      "\n",
      "thanks and regards\n",
      "rahul jadhav\n",
      "sdbi\n"
     ]
    }
   ],
   "source": [
    "# removing non-textual characters\n",
    "pattern = re.compile(r'[^\\w\\s]')\n",
    "corpus = pattern.sub('', corpus)\n",
    "print(corpus)"
   ]
  },
  {
   "cell_type": "code",
   "execution_count": 29,
   "metadata": {},
   "outputs": [
    {
     "name": "stdout",
     "output_type": "stream",
     "text": [
      "dear students\n",
      "\n",
      "we are thrilled to announce an exclusive opportunity for talented students to join flipkart a leading ecommerce giant\n",
      "\n",
      "flipkart is hosting its flagship challenge flipkart grid  seeking passionate and skilled individuals for fulltime sde roles and internship positions\n",
      "\n",
      "heres what awaits you\n",
      "\n",
      "fulltime sde roles\n",
      "the competitive salary package of inr  lpa\n",
      "opportunity to contribute to cuttingedge projects and technologies that drive ecommerce innovation\n",
      "be part of a dynamic and collaborative team environment\n",
      "\n",
      "internships\n",
      "a lucrative stipend of inr  lakh per month\n",
      "gain invaluable handson experience working on realworld engineering challenges\n",
      "build your skills and network within a leading technology company\n",
      "\n",
      "eligibility\n",
      "open to all students enrolled in batches    and \n",
      "\n",
      "how to apply\n",
      "showcase your talent and problemsolving skills by participating in the flipkart grid  challenge\n",
      "apply through the application link httpsbitlyflipkartgrid\n",
      "\n",
      "dont miss this chance this is an exceptional opportunity to kickstart your career with a leading ecommerce company and contribute to the future of online shopping\n",
      "\n",
      "we encourage you to seize this exciting opportunity we believe in your potential and wish you the very best in your endeavors\n",
      "\n",
      "thanks and regards\n",
      "rahul jadhav\n",
      "sdbi\n"
     ]
    }
   ],
   "source": [
    "# removing digits\n",
    "pattern = re.compile(r'\\d')\n",
    "corpus = pattern.sub('', corpus)\n",
    "print(corpus)"
   ]
  },
  {
   "cell_type": "code",
   "execution_count": 30,
   "metadata": {},
   "outputs": [
    {
     "name": "stdout",
     "output_type": "stream",
     "text": [
      "['dear', 'students', 'we', 'are', 'thrilled', 'to', 'announce', 'an', 'exclusive', 'opportunity', 'for', 'talented', 'students', 'to', 'join', 'flipkart', 'a', 'leading', 'ecommerce', 'giant', 'flipkart', 'is', 'hosting', 'its', 'flagship', 'challenge', 'flipkart', 'grid', 'seeking', 'passionate', 'and', 'skilled', 'individuals', 'for', 'fulltime', 'sde', 'roles', 'and', 'internship', 'positions', 'heres', 'what', 'awaits', 'you', 'fulltime', 'sde', 'roles', 'the', 'competitive', 'salary', 'package', 'of', 'inr', 'lpa', 'opportunity', 'to', 'contribute', 'to', 'cuttingedge', 'projects', 'and', 'technologies', 'that', 'drive', 'ecommerce', 'innovation', 'be', 'part', 'of', 'a', 'dynamic', 'and', 'collaborative', 'team', 'environment', 'internships', 'a', 'lucrative', 'stipend', 'of', 'inr', 'lakh', 'per', 'month', 'gain', 'invaluable', 'handson', 'experience', 'working', 'on', 'realworld', 'engineering', 'challenges', 'build', 'your', 'skills', 'and', 'network', 'within', 'a', 'leading', 'technology', 'company', 'eligibility', 'open', 'to', 'all', 'students', 'enrolled', 'in', 'batches', 'and', 'how', 'to', 'apply', 'showcase', 'your', 'talent', 'and', 'problemsolving', 'skills', 'by', 'participating', 'in', 'the', 'flipkart', 'grid', 'challenge', 'apply', 'through', 'the', 'application', 'link', 'httpsbitlyflipkartgrid', 'dont', 'miss', 'this', 'chance', 'this', 'is', 'an', 'exceptional', 'opportunity', 'to', 'kickstart', 'your', 'career', 'with', 'a', 'leading', 'ecommerce', 'company', 'and', 'contribute', 'to', 'the', 'future', 'of', 'online', 'shopping', 'we', 'encourage', 'you', 'to', 'seize', 'this', 'exciting', 'opportunity', 'we', 'believe', 'in', 'your', 'potential', 'and', 'wish', 'you', 'the', 'very', 'best', 'in', 'your', 'endeavors', 'thanks', 'and', 'regards', 'rahul', 'jadhav', 'sdbi']\n"
     ]
    }
   ],
   "source": [
    "# tokenization\n",
    "tokens = corpus.split()\n",
    "print(tokens)"
   ]
  },
  {
   "cell_type": "code",
   "execution_count": 31,
   "metadata": {},
   "outputs": [
    {
     "name": "stdout",
     "output_type": "stream",
     "text": [
      "['dear', 'students', 'thrilled', 'announce', 'exclusive', 'opportunity', 'talented', 'students', 'join', 'flipkart', 'leading', 'ecommerce', 'giant', 'flipkart', 'hosting', 'flagship', 'challenge', 'flipkart', 'grid', 'seeking', 'passionate', 'skilled', 'individuals', 'fulltime', 'sde', 'roles', 'internship', 'positions', 'heres', 'awaits', 'fulltime', 'sde', 'roles', 'competitive', 'salary', 'package', 'inr', 'lpa', 'opportunity', 'contribute', 'cuttingedge', 'projects', 'technologies', 'drive', 'ecommerce', 'innovation', 'part', 'dynamic', 'collaborative', 'team', 'environment', 'internships', 'lucrative', 'stipend', 'inr', 'lakh', 'per', 'month', 'gain', 'invaluable', 'handson', 'experience', 'working', 'realworld', 'engineering', 'challenges', 'build', 'skills', 'network', 'within', 'leading', 'technology', 'company', 'eligibility', 'open', 'students', 'enrolled', 'batches', 'apply', 'showcase', 'talent', 'problemsolving', 'skills', 'participating', 'flipkart', 'grid', 'challenge', 'apply', 'application', 'link', 'httpsbitlyflipkartgrid', 'dont', 'miss', 'chance', 'exceptional', 'opportunity', 'kickstart', 'career', 'leading', 'ecommerce', 'company', 'contribute', 'future', 'online', 'shopping', 'encourage', 'seize', 'exciting', 'opportunity', 'believe', 'potential', 'wish', 'best', 'endeavors', 'thanks', 'regards', 'rahul', 'jadhav', 'sdbi']\n"
     ]
    }
   ],
   "source": [
    "stop_words = set(stopwords.words('english'))\n",
    "words = [word for word in tokens if word not in stop_words and word.isalnum()]\n",
    "print(words)"
   ]
  },
  {
   "cell_type": "code",
   "execution_count": 35,
   "metadata": {},
   "outputs": [],
   "source": [
    "word_frequency = Counter(words)"
   ]
  },
  {
   "cell_type": "code",
   "execution_count": 40,
   "metadata": {},
   "outputs": [
    {
     "name": "stdout",
     "output_type": "stream",
     "text": [
      "opportunity:4\n",
      "flipkart:4\n",
      "students:3\n",
      "leading:3\n",
      "ecommerce:3\n",
      "challenge:2\n",
      "grid:2\n",
      "fulltime:2\n",
      "sde:2\n",
      "roles:2\n",
      "inr:2\n",
      "contribute:2\n",
      "skills:2\n",
      "company:2\n",
      "apply:2\n",
      "dear:1\n",
      "thrilled:1\n",
      "announce:1\n",
      "exclusive:1\n",
      "talented:1\n",
      "join:1\n",
      "giant:1\n",
      "hosting:1\n",
      "flagship:1\n",
      "seeking:1\n",
      "passionate:1\n",
      "skilled:1\n",
      "individuals:1\n",
      "internship:1\n",
      "positions:1\n",
      "heres:1\n",
      "awaits:1\n",
      "competitive:1\n",
      "salary:1\n",
      "package:1\n",
      "lpa:1\n",
      "cuttingedge:1\n",
      "projects:1\n",
      "technologies:1\n",
      "drive:1\n",
      "innovation:1\n",
      "part:1\n",
      "dynamic:1\n",
      "collaborative:1\n",
      "team:1\n",
      "environment:1\n",
      "internships:1\n",
      "lucrative:1\n",
      "stipend:1\n",
      "lakh:1\n",
      "per:1\n",
      "month:1\n",
      "gain:1\n",
      "invaluable:1\n",
      "handson:1\n",
      "experience:1\n",
      "working:1\n",
      "realworld:1\n",
      "engineering:1\n",
      "challenges:1\n",
      "build:1\n",
      "network:1\n",
      "within:1\n",
      "technology:1\n",
      "eligibility:1\n",
      "open:1\n",
      "enrolled:1\n",
      "batches:1\n",
      "showcase:1\n",
      "talent:1\n",
      "problemsolving:1\n",
      "participating:1\n",
      "application:1\n",
      "link:1\n",
      "httpsbitlyflipkartgrid:1\n",
      "dont:1\n",
      "miss:1\n",
      "chance:1\n",
      "exceptional:1\n",
      "kickstart:1\n",
      "career:1\n",
      "future:1\n",
      "online:1\n",
      "shopping:1\n",
      "encourage:1\n",
      "seize:1\n",
      "exciting:1\n",
      "believe:1\n",
      "potential:1\n",
      "wish:1\n",
      "best:1\n",
      "endeavors:1\n",
      "thanks:1\n",
      "regards:1\n",
      "rahul:1\n",
      "jadhav:1\n",
      "sdbi:1\n"
     ]
    }
   ],
   "source": [
    "# calculating work frequency\n",
    "for word, frequency in word_frequency.most_common():\n",
    "    print(f'{word}:{frequency}')"
   ]
  },
  {
   "cell_type": "code",
   "execution_count": null,
   "metadata": {},
   "outputs": [],
   "source": []
  }
 ],
 "metadata": {
  "kernelspec": {
   "display_name": "Python 3",
   "language": "python",
   "name": "python3"
  },
  "language_info": {
   "codemirror_mode": {
    "name": "ipython",
    "version": 3
   },
   "file_extension": ".py",
   "mimetype": "text/x-python",
   "name": "python",
   "nbconvert_exporter": "python",
   "pygments_lexer": "ipython3",
   "version": "3.11.3"
  }
 },
 "nbformat": 4,
 "nbformat_minor": 2
}
