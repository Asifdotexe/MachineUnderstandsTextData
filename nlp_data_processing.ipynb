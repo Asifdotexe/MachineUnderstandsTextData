{
 "cells": [
  {
   "cell_type": "code",
   "execution_count": 1,
   "metadata": {},
   "outputs": [
    {
     "name": "stderr",
     "output_type": "stream",
     "text": [
      "[nltk_data] Downloading package punkt to C:\\Users\\Asif\n",
      "[nltk_data]     Sayyed\\AppData\\Roaming\\nltk_data...\n",
      "[nltk_data]   Package punkt is already up-to-date!\n",
      "[nltk_data] Downloading package stopwords to C:\\Users\\Asif\n",
      "[nltk_data]     Sayyed\\AppData\\Roaming\\nltk_data...\n",
      "[nltk_data]   Package stopwords is already up-to-date!\n",
      "[nltk_data] Downloading package wordnet to C:\\Users\\Asif\n",
      "[nltk_data]     Sayyed\\AppData\\Roaming\\nltk_data...\n",
      "[nltk_data]   Package wordnet is already up-to-date!\n"
     ]
    },
    {
     "data": {
      "text/plain": [
       "True"
      ]
     },
     "execution_count": 1,
     "metadata": {},
     "output_type": "execute_result"
    }
   ],
   "source": [
    "import re\n",
    "import nltk\n",
    "from nltk import pos_tag\n",
    "from string import punctuation\n",
    "from nltk.corpus import stopwords\n",
    "from nltk.tokenize import word_tokenize\n",
    "from nltk.corpus import wordnet as wn\n",
    "from nltk.stem import PorterStemmer\n",
    "from nltk.stem import WordNetLemmatizer\n",
    "\n",
    "nltk.download('punkt')\n",
    "nltk.download('stopwords')\n",
    "nltk.download('wordnet')"
   ]
  },
  {
   "cell_type": "code",
   "execution_count": 12,
   "metadata": {},
   "outputs": [],
   "source": [
    "# defining the corpus\n",
    "corpus = (\"\"\"In statistics, a rank correlation is any of several statistics that measure an \n",
    "          ordinal association—the relationship between rankings of different ordinal variables \n",
    "          or different rankings of the same variable, where a \"ranking\" is the assignment of the \n",
    "          ordering labels \"first\", \"second\", \"third\", etc. to different observations of a particular variable. \n",
    "          A rank correlation coefficient measures the degree of similarity between two rankings, and can be used to \n",
    "          assess the significance of the relation between them. For example, two common nonparametric methods of \n",
    "          significance that use rank correlation are the Mann–Whitney U test and the Wilcoxon signed-rank test.\"\"\")"
   ]
  },
  {
   "cell_type": "markdown",
   "metadata": {},
   "source": [
    "# Text Cleaning\n",
    "- converting text to lowercase\n",
    "- removing whitespace and non-textual characters\n",
    "- removing digits"
   ]
  },
  {
   "cell_type": "code",
   "execution_count": 13,
   "metadata": {},
   "outputs": [
    {
     "name": "stdout",
     "output_type": "stream",
     "text": [
      "in statistics, a rank correlation is any of several statistics that measure an \n",
      "          ordinal association—the relationship between rankings of different ordinal variables \n",
      "          or different rankings of the same variable, where a \"ranking\" is the assignment of the \n",
      "          ordering labels \"first\", \"second\", \"third\", etc. to different observations of a particular variable. \n",
      "          a rank correlation coefficient measures the degree of similarity between two rankings, and can be used to \n",
      "          assess the significance of the relation between them. for example, two common nonparametric methods of \n",
      "          significance that use rank correlation are the mann–whitney u test and the wilcoxon signed-rank test.\n"
     ]
    }
   ],
   "source": [
    "# converting text to lowercase\n",
    "corpus = corpus.lower()\n",
    "# df = df.applymap(lambda x: x.lower() if isinstance(x, str) else x) # for dataframe\n",
    "print(corpus)"
   ]
  },
  {
   "cell_type": "code",
   "execution_count": 14,
   "metadata": {},
   "outputs": [
    {
     "name": "stdout",
     "output_type": "stream",
     "text": [
      "in statistics, a rank correlation is any of several statistics that measure an \n",
      "          ordinal association—the relationship between rankings of different ordinal variables \n",
      "          or different rankings of the same variable, where a \"ranking\" is the assignment of the \n",
      "          ordering labels \"first\", \"second\", \"third\", etc. to different observations of a particular variable. \n",
      "          a rank correlation coefficient measures the degree of similarity between two rankings, and can be used to \n",
      "          assess the significance of the relation between them. for example, two common nonparametric methods of \n",
      "          significance that use rank correlation are the mann–whitney u test and the wilcoxon signed-rank test.\n"
     ]
    }
   ],
   "source": [
    "# removing https\n",
    "pattern = re.compile(r'https?://\\S+')\n",
    "corpus = pattern.sub('', corpus)\n",
    "print(corpus)"
   ]
  },
  {
   "cell_type": "code",
   "execution_count": 15,
   "metadata": {},
   "outputs": [
    {
     "name": "stdout",
     "output_type": "stream",
     "text": [
      "in statistics a rank correlation is any of several statistics that measure an \n",
      "          ordinal associationthe relationship between rankings of different ordinal variables \n",
      "          or different rankings of the same variable where a ranking is the assignment of the \n",
      "          ordering labels first second third etc to different observations of a particular variable \n",
      "          a rank correlation coefficient measures the degree of similarity between two rankings and can be used to \n",
      "          assess the significance of the relation between them for example two common nonparametric methods of \n",
      "          significance that use rank correlation are the mannwhitney u test and the wilcoxon signedrank test\n"
     ]
    }
   ],
   "source": [
    "# removing non-textual characters\n",
    "pattern = re.compile(r'[^\\w\\s]')\n",
    "corpus = pattern.sub('', corpus)\n",
    "print(corpus)"
   ]
  },
  {
   "cell_type": "code",
   "execution_count": 17,
   "metadata": {},
   "outputs": [
    {
     "name": "stdout",
     "output_type": "stream",
     "text": [
      "in statistics a rank correlation is any of several statistics that measure an \n",
      "          ordinal associationthe relationship between rankings of different ordinal variables \n",
      "          or different rankings of the same variable where a ranking is the assignment of the \n",
      "          ordering labels first second third etc to different observations of a particular variable \n",
      "          a rank correlation coefficient measures the degree of similarity between two rankings and can be used to \n",
      "          assess the significance of the relation between them for example two common nonparametric methods of \n",
      "          significance that use rank correlation are the mannwhitney u test and the wilcoxon signedrank test\n"
     ]
    }
   ],
   "source": [
    "# removing digits\n",
    "pattern = re.compile(r'\\d')\n",
    "corpus = pattern.sub('', corpus)\n",
    "print(corpus)"
   ]
  },
  {
   "cell_type": "code",
   "execution_count": null,
   "metadata": {},
   "outputs": [],
   "source": []
  }
 ],
 "metadata": {
  "kernelspec": {
   "display_name": "Python 3",
   "language": "python",
   "name": "python3"
  },
  "language_info": {
   "codemirror_mode": {
    "name": "ipython",
    "version": 3
   },
   "file_extension": ".py",
   "mimetype": "text/x-python",
   "name": "python",
   "nbconvert_exporter": "python",
   "pygments_lexer": "ipython3",
   "version": "3.11.3"
  }
 },
 "nbformat": 4,
 "nbformat_minor": 2
}
