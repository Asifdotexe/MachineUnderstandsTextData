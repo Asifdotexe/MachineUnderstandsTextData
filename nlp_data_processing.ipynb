{
 "cells": [
  {
   "cell_type": "code",
   "execution_count": 55,
   "metadata": {},
   "outputs": [
    {
     "name": "stderr",
     "output_type": "stream",
     "text": [
      "[nltk_data] Downloading package punkt to C:\\Users\\Asif\n",
      "[nltk_data]     Sayyed\\AppData\\Roaming\\nltk_data...\n",
      "[nltk_data]   Package punkt is already up-to-date!\n",
      "[nltk_data] Downloading package stopwords to C:\\Users\\Asif\n",
      "[nltk_data]     Sayyed\\AppData\\Roaming\\nltk_data...\n",
      "[nltk_data]   Package stopwords is already up-to-date!\n",
      "[nltk_data] Downloading package wordnet to C:\\Users\\Asif\n",
      "[nltk_data]     Sayyed\\AppData\\Roaming\\nltk_data...\n",
      "[nltk_data]   Package wordnet is already up-to-date!\n"
     ]
    },
    {
     "data": {
      "text/plain": [
       "True"
      ]
     },
     "execution_count": 55,
     "metadata": {},
     "output_type": "execute_result"
    }
   ],
   "source": [
    "import re\n",
    "import nltk\n",
    "from nltk import pos_tag\n",
    "from string import punctuation\n",
    "from nltk.corpus import stopwords\n",
    "from nltk.tokenize import word_tokenize\n",
    "from nltk.corpus import wordnet as wn\n",
    "from nltk.stem import PorterStemmer\n",
    "from nltk.stem import WordNetLemmatizer\n",
    "\n",
    "nltk.download('punkt')\n",
    "nltk.download('stopwords')\n",
    "nltk.download('wordnet')"
   ]
  },
  {
   "cell_type": "code",
   "execution_count": 56,
   "metadata": {},
   "outputs": [],
   "source": [
    "# defining the corpus\n",
    "corpus = (\"\"\"In statistics, a rank correlation is any of several statistics that measure an \n",
    "          ordinal association—the relationship between rankings of different ordinal variables \n",
    "          or different rankings of the same variable, where a \"ranking\" is the assignment of the \n",
    "          ordering labels \"first\", \"second\", \"third\", etc. to different observations of a particular variable. \n",
    "          A rank correlation coefficient measures the degree of similarity between two rankings, and can be used to \n",
    "          assess the significance of the relation between them. For example, two common nonparametric methods of \n",
    "          significance that use rank correlation are the Mann–Whitney U test and the Wilcoxon signed-rank test.\"\"\")"
   ]
  },
  {
   "cell_type": "markdown",
   "metadata": {},
   "source": [
    "# Text Cleaning\n",
    "- converting text to lowercase\n",
    "- removing whitespace and non-textual characters\n",
    "- removing digits"
   ]
  },
  {
   "cell_type": "code",
   "execution_count": 57,
   "metadata": {},
   "outputs": [
    {
     "name": "stdout",
     "output_type": "stream",
     "text": [
      "in statistics, a rank correlation is any of several statistics that measure an \n",
      "          ordinal association—the relationship between rankings of different ordinal variables \n",
      "          or different rankings of the same variable, where a \"ranking\" is the assignment of the \n",
      "          ordering labels \"first\", \"second\", \"third\", etc. to different observations of a particular variable. \n",
      "          a rank correlation coefficient measures the degree of similarity between two rankings, and can be used to \n",
      "          assess the significance of the relation between them. for example, two common nonparametric methods of \n",
      "          significance that use rank correlation are the mann–whitney u test and the wilcoxon signed-rank test.\n"
     ]
    }
   ],
   "source": [
    "# converting text to lowercase\n",
    "corpus = corpus.lower()\n",
    "# df = df.applymap(lambda x: x.lower() if isinstance(x, str) else x) # for dataframe\n",
    "print(corpus)"
   ]
  },
  {
   "cell_type": "code",
   "execution_count": 58,
   "metadata": {},
   "outputs": [
    {
     "name": "stdout",
     "output_type": "stream",
     "text": [
      "in statistics, a rank correlation is any of several statistics that measure an \n",
      "          ordinal association—the relationship between rankings of different ordinal variables \n",
      "          or different rankings of the same variable, where a \"ranking\" is the assignment of the \n",
      "          ordering labels \"first\", \"second\", \"third\", etc. to different observations of a particular variable. \n",
      "          a rank correlation coefficient measures the degree of similarity between two rankings, and can be used to \n",
      "          assess the significance of the relation between them. for example, two common nonparametric methods of \n",
      "          significance that use rank correlation are the mann–whitney u test and the wilcoxon signed-rank test.\n"
     ]
    }
   ],
   "source": [
    "# removing https\n",
    "pattern = re.compile(r'https?://\\S+')\n",
    "corpus = pattern.sub('', corpus)\n",
    "print(corpus)"
   ]
  },
  {
   "cell_type": "code",
   "execution_count": 59,
   "metadata": {},
   "outputs": [
    {
     "name": "stdout",
     "output_type": "stream",
     "text": [
      "in statistics a rank correlation is any of several statistics that measure an \n",
      "          ordinal associationthe relationship between rankings of different ordinal variables \n",
      "          or different rankings of the same variable where a ranking is the assignment of the \n",
      "          ordering labels first second third etc to different observations of a particular variable \n",
      "          a rank correlation coefficient measures the degree of similarity between two rankings and can be used to \n",
      "          assess the significance of the relation between them for example two common nonparametric methods of \n",
      "          significance that use rank correlation are the mannwhitney u test and the wilcoxon signedrank test\n"
     ]
    }
   ],
   "source": [
    "# removing non-textual characters\n",
    "pattern = re.compile(r'[^\\w\\s]')\n",
    "corpus = pattern.sub('', corpus)\n",
    "print(corpus)"
   ]
  },
  {
   "cell_type": "code",
   "execution_count": 60,
   "metadata": {},
   "outputs": [
    {
     "name": "stdout",
     "output_type": "stream",
     "text": [
      "in statistics a rank correlation is any of several statistics that measure an \n",
      "          ordinal associationthe relationship between rankings of different ordinal variables \n",
      "          or different rankings of the same variable where a ranking is the assignment of the \n",
      "          ordering labels first second third etc to different observations of a particular variable \n",
      "          a rank correlation coefficient measures the degree of similarity between two rankings and can be used to \n",
      "          assess the significance of the relation between them for example two common nonparametric methods of \n",
      "          significance that use rank correlation are the mannwhitney u test and the wilcoxon signedrank test\n"
     ]
    }
   ],
   "source": [
    "# removing digits\n",
    "pattern = re.compile(r'\\d')\n",
    "corpus = pattern.sub('', corpus)\n",
    "print(corpus)"
   ]
  },
  {
   "cell_type": "markdown",
   "metadata": {},
   "source": [
    "# Tokenization\n",
    "Tokenization is the process of breaking down large blocks of text such as paragraphs and sentences into smaller, more manageable units.\n",
    "\n",
    "`'I see a cup of coffee'` -> `'I'`, `'see'`, `'a'`, `'cup'`, `'of'`, `'coffee'`"
   ]
  },
  {
   "cell_type": "code",
   "execution_count": 61,
   "metadata": {},
   "outputs": [
    {
     "name": "stdout",
     "output_type": "stream",
     "text": [
      "['in', 'statistics', 'a', 'rank', 'correlation', 'is', 'any', 'of', 'several', 'statistics', 'that', 'measure', 'an', 'ordinal', 'associationthe', 'relationship', 'between', 'rankings', 'of', 'different', 'ordinal', 'variables', 'or', 'different', 'rankings', 'of', 'the', 'same', 'variable', 'where', 'a', 'ranking', 'is', 'the', 'assignment', 'of', 'the', 'ordering', 'labels', 'first', 'second', 'third', 'etc', 'to', 'different', 'observations', 'of', 'a', 'particular', 'variable', 'a', 'rank', 'correlation', 'coefficient', 'measures', 'the', 'degree', 'of', 'similarity', 'between', 'two', 'rankings', 'and', 'can', 'be', 'used', 'to', 'assess', 'the', 'significance', 'of', 'the', 'relation', 'between', 'them', 'for', 'example', 'two', 'common', 'nonparametric', 'methods', 'of', 'significance', 'that', 'use', 'rank', 'correlation', 'are', 'the', 'mannwhitney', 'u', 'test', 'and', 'the', 'wilcoxon', 'signedrank', 'test']\n"
     ]
    }
   ],
   "source": [
    "tokens = corpus.split()\n",
    "print(tokens)"
   ]
  },
  {
   "cell_type": "markdown",
   "metadata": {},
   "source": [
    "# Stop-word removal\n",
    "Stopwords refer to the most commonly occurring words in any natural language.\n",
    "\n",
    "For the purpose of analyzing text data and building NLP models, these stopwords might not add much value to the meaning of the document. Therefore, removing stopwords can help us to focus on the most important information in the text and improve the accuracy of our analysis.\n",
    "\n",
    "__Before:__ `[This', 'is', 'an', 'example', 'for', 'stop', 'word', 'removal']` <br>\n",
    "<br>\n",
    "__After:__ `['This', 'example', 'stop', 'word', 'removal']`"
   ]
  },
  {
   "cell_type": "code",
   "execution_count": 62,
   "metadata": {},
   "outputs": [
    {
     "name": "stdout",
     "output_type": "stream",
     "text": [
      "['statistics', 'rank', 'correlation', 'several', 'statistics', 'measure', 'ordinal', 'associationthe', 'relationship', 'rankings', 'different', 'ordinal', 'variables', 'different', 'rankings', 'variable', 'ranking', 'assignment', 'ordering', 'labels', 'first', 'second', 'third', 'etc', 'different', 'observations', 'particular', 'variable', 'rank', 'correlation', 'coefficient', 'measures', 'degree', 'similarity', 'two', 'rankings', 'used', 'assess', 'significance', 'relation', 'example', 'two', 'common', 'nonparametric', 'methods', 'significance', 'use', 'rank', 'correlation', 'mannwhitney', 'u', 'test', 'wilcoxon', 'signedrank', 'test']\n"
     ]
    }
   ],
   "source": [
    "stop_words = set(stopwords.words('english'))\n",
    "words = [word for word in tokens if word not in stop_words]\n",
    "print(words)"
   ]
  },
  {
   "cell_type": "markdown",
   "metadata": {},
   "source": [
    "# Stemming and Lemmatization\n",
    "![Stemming vs Lemmatization](1_OYRDkAUMOWQ1Qx5T_4p8hQ.webp)\n",
    "\n",
    "There are various algorithms that can be used for stemming,\n",
    "\n",
    "- Porter Stemmer algorithm\n",
    "- Snowball Stemmer algorithm\n",
    "- Lovins Stemmer algorithm"
   ]
  },
  {
   "cell_type": "markdown",
   "metadata": {},
   "source": [
    "# Stemming \n",
    "![Stemming](1_246vgS9esr6Li6rd3vaTtA.webp)\n",
    "Stemming in NLP is the process of reducing words to their base form by removing prefixes and suffixes. It helps in treating different forms of words as the same, aiding in tasks like text analysis and retrieval"
   ]
  },
  {
   "cell_type": "code",
   "execution_count": 63,
   "metadata": {},
   "outputs": [
    {
     "name": "stdout",
     "output_type": "stream",
     "text": [
      "['statist', 'rank', 'correl', 'sever', 'statist', 'measur', 'ordin', 'associationth', 'relationship', 'rank', 'differ', 'ordin', 'variabl', 'differ', 'rank', 'variabl', 'rank', 'assign', 'order', 'label', 'first', 'second', 'third', 'etc', 'differ', 'observ', 'particular', 'variabl', 'rank', 'correl', 'coeffici', 'measur', 'degre', 'similar', 'two', 'rank', 'use', 'assess', 'signific', 'relat', 'exampl', 'two', 'common', 'nonparametr', 'method', 'signific', 'use', 'rank', 'correl', 'mannwhitney', 'u', 'test', 'wilcoxon', 'signedrank', 'test']\n"
     ]
    }
   ],
   "source": [
    "stemmer = PorterStemmer()\n",
    "stemmed = [stemmer.stem(word) for word in words]\n",
    "print(stemmed)"
   ]
  },
  {
   "cell_type": "markdown",
   "metadata": {},
   "source": [
    "# Lemmatization \n"
   ]
  },
  {
   "cell_type": "markdown",
   "metadata": {},
   "source": [
    "![Lemmatization](download.png)\n",
    "\n",
    "Lemmatization in natural language processing (NLP) is the process of reducing words to their base or dictionary form, known as the lemma. "
   ]
  },
  {
   "cell_type": "code",
   "execution_count": 64,
   "metadata": {},
   "outputs": [],
   "source": [
    "lemmatizer = WordNetLemmatizer()"
   ]
  },
  {
   "cell_type": "code",
   "execution_count": 66,
   "metadata": {},
   "outputs": [],
   "source": [
    "def lemmatize_tokens(tokens: list[str]) -> list[str]:\n",
    "    \"\"\"\n",
    "    This function takes a list of tokens as input and returns a list of lemmatized tokens.\n",
    "    Lemmatization is the process of reducing words to their base or dictionary form, known as the lemma.\n",
    "\n",
    "    Parameters:\n",
    "    tokens (list[str]): A list of tokens to be lemmatized.\n",
    "\n",
    "    Returns:\n",
    "    list[str]: A list of lemmatized tokens.\n",
    "    \"\"\"\n",
    "\n",
    "    def get_word_net_pos(word: str) -> str:\n",
    "        \"\"\"\n",
    "        This helper function determines the part of speech (POS) tag for a given word.\n",
    "\n",
    "        Parameters:\n",
    "        word (str): The word for which the POS tag needs to be determined.\n",
    "\n",
    "        Returns:\n",
    "        str: The POS tag for the given word.\n",
    "        \"\"\"\n",
    "        tag = nltk.pos_tag([word])[0][1][0].upper()\n",
    "        tag_dict = {\n",
    "            'J': wn.ADJ,\n",
    "            'N': wn.NOUN,\n",
    "            'V': wn.VERB,\n",
    "            'R': wn.ADV\n",
    "        }\n",
    "        return tag_dict.get(tag, wn.NOUN)\n",
    "    \n",
    "    lemmas = [lemmatizer.lemmatize(token, get_word_net_pos(token)) for token in tokens]\n",
    "    return lemmas"
   ]
  },
  {
   "cell_type": "code",
   "execution_count": 67,
   "metadata": {},
   "outputs": [
    {
     "name": "stdout",
     "output_type": "stream",
     "text": [
      "['statistic', 'rank', 'correlation', 'several', 'statistic', 'measure', 'ordinal', 'associationthe', 'relationship', 'ranking', 'different', 'ordinal', 'variable', 'different', 'ranking', 'variable', 'rank', 'assignment', 'order', 'label', 'first', 'second', 'third', 'etc', 'different', 'observation', 'particular', 'variable', 'rank', 'correlation', 'coefficient', 'measure', 'degree', 'similarity', 'two', 'ranking', 'use', 'ass', 'significance', 'relation', 'example', 'two', 'common', 'nonparametric', 'method', 'significance', 'use', 'rank', 'correlation', 'mannwhitney', 'u', 'test', 'wilcoxon', 'signedrank', 'test']\n"
     ]
    }
   ],
   "source": [
    "lemmas = lemmatize_tokens(words)\n",
    "print(lemmas)"
   ]
  },
  {
   "cell_type": "code",
   "execution_count": null,
   "metadata": {},
   "outputs": [],
   "source": []
  }
 ],
 "metadata": {
  "kernelspec": {
   "display_name": "Python 3",
   "language": "python",
   "name": "python3"
  },
  "language_info": {
   "codemirror_mode": {
    "name": "ipython",
    "version": 3
   },
   "file_extension": ".py",
   "mimetype": "text/x-python",
   "name": "python",
   "nbconvert_exporter": "python",
   "pygments_lexer": "ipython3",
   "version": "3.11.3"
  }
 },
 "nbformat": 4,
 "nbformat_minor": 2
}
