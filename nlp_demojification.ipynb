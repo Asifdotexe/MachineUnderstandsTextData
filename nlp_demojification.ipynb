{
 "cells": [
  {
   "cell_type": "markdown",
   "metadata": {},
   "source": [
    "# Demoji approach"
   ]
  },
  {
   "cell_type": "code",
   "execution_count": 1,
   "metadata": {},
   "outputs": [
    {
     "name": "stdout",
     "output_type": "stream",
     "text": [
      "Requirement already satisfied: demoji in c:\\users\\asif sayyed\\anaconda3\\lib\\site-packages (1.1.0)Note: you may need to restart the kernel to use updated packages.\n",
      "\n"
     ]
    }
   ],
   "source": [
    "pip install demoji"
   ]
  },
  {
   "cell_type": "code",
   "execution_count": 6,
   "metadata": {},
   "outputs": [
    {
     "name": "stderr",
     "output_type": "stream",
     "text": [
      "C:\\Users\\Asif Sayyed\\AppData\\Local\\Temp\\ipykernel_11996\\2087943760.py:2: FutureWarning: The demoji.download_codes attribute is deprecated and will be removed from demoji in a future version. It is an unused attribute as emoji codes are now distributed directly with the demoji package.\n",
      "  de.download_codes()\n"
     ]
    }
   ],
   "source": [
    "import demoji as de\n",
    "de.download_codes()"
   ]
  },
  {
   "cell_type": "code",
   "execution_count": 7,
   "metadata": {},
   "outputs": [],
   "source": [
    "corpus = (\"\"\"🌞 Good morning! ☀️ Time to start the day with a smile 😊.\n",
    "\n",
    "🍳🍞 Breakfast time! What do you prefer: 🍎 or 🍌? Or maybe a delicious cup of ☕️?\n",
    "\n",
    "📚🖋️ Work or school is calling. Let's tackle those tasks and make some progress 💪. Remember to stay focused 🧠 and take breaks 🛌.\n",
    "\n",
    "🍴 Lunch is here! How about a healthy 🥗 or a 🍔? Don't forget to drink water 💧.\n",
    "\n",
    "🌳 Afternoon break! Maybe take a walk 🚶‍♂️ or read a book 📖.\n",
    "\n",
    "💻 Back to work! Keep that productivity going. You got this! 🏆\n",
    "\n",
    "🍽️ Dinner time. Cooking something special tonight? Maybe some 🍝 or 🍣?\n",
    "\n",
    "🌇 Evening is a perfect time to relax 🛋️. Watch a movie 🎬, listen to music 🎧, or just enjoy some quiet time 🌙.\n",
    "\n",
    "💤 Time for bed 🛌. Reflect on your day and think about what you're grateful for 🌟. Sleep tight and sweet dreams! 😴\n",
    "\n",
    "\"\"\")"
   ]
  },
  {
   "cell_type": "code",
   "execution_count": 8,
   "metadata": {},
   "outputs": [
    {
     "data": {
      "text/plain": [
       "{'🍞': 'bread',\n",
       " '☕': 'hot beverage',\n",
       " '🍝': 'spaghetti',\n",
       " '😊': 'smiling face with smiling eyes',\n",
       " '💪': 'flexed biceps',\n",
       " '🍽️': 'fork and knife with plate',\n",
       " '🌇': 'sunset',\n",
       " '🛋️': 'couch and lamp',\n",
       " '🍎': 'red apple',\n",
       " '📖': 'open book',\n",
       " '🖋️': 'fountain pen',\n",
       " '💤': 'zzz',\n",
       " '🍌': 'banana',\n",
       " '🍴': 'fork and knife',\n",
       " '🌞': 'sun with face',\n",
       " '🍣': 'sushi',\n",
       " '🌙': 'crescent moon',\n",
       " '☀️': 'sun',\n",
       " '💻': 'laptop',\n",
       " '🎧': 'headphone',\n",
       " '😴': 'sleeping face',\n",
       " '🥗': 'green salad',\n",
       " '🍔': 'hamburger',\n",
       " '🚶\\u200d♂️': 'man walking',\n",
       " '💧': 'droplet',\n",
       " '🍳': 'cooking',\n",
       " '🛌': 'person in bed',\n",
       " '🌟': 'glowing star',\n",
       " '🎬': 'clapper board',\n",
       " '📚': 'books',\n",
       " '🏆': 'trophy',\n",
       " '🧠': 'brain',\n",
       " '🌳': 'deciduous tree'}"
      ]
     },
     "execution_count": 8,
     "metadata": {},
     "output_type": "execute_result"
    }
   ],
   "source": [
    "de.findall(corpus)"
   ]
  },
  {
   "cell_type": "code",
   "execution_count": 9,
   "metadata": {},
   "outputs": [],
   "source": [
    "def demojify(text: str) -> str:\n",
    "    emoji_dict = de.findall(text)\n",
    "    for emoji, description in emoji_dict.items():\n",
    "        text = text.replace(emoji, f'[{description}]')\n",
    "    return text"
   ]
  },
  {
   "cell_type": "code",
   "execution_count": 10,
   "metadata": {},
   "outputs": [
    {
     "name": "stdout",
     "output_type": "stream",
     "text": [
      "[sun with face] Good morning! [sun] Time to start the day with a smile [smiling face with smiling eyes].\n",
      "\n",
      "[cooking][bread] Breakfast time! What do you prefer: [red apple] or [banana]? Or maybe a delicious cup of [hot beverage]️?\n",
      "\n",
      "[books][fountain pen] Work or school is calling. Let's tackle those tasks and make some progress [flexed biceps]. Remember to stay focused [brain] and take breaks [person in bed].\n",
      "\n",
      "[fork and knife] Lunch is here! How about a healthy [green salad] or a [hamburger]? Don't forget to drink water [droplet].\n",
      "\n",
      "[deciduous tree] Afternoon break! Maybe take a walk [man walking] or read a book [open book].\n",
      "\n",
      "[laptop] Back to work! Keep that productivity going. You got this! [trophy]\n",
      "\n",
      "[fork and knife with plate] Dinner time. Cooking something special tonight? Maybe some [spaghetti] or [sushi]?\n",
      "\n",
      "[sunset] Evening is a perfect time to relax [couch and lamp]. Watch a movie [clapper board], listen to music [headphone], or just enjoy some quiet time [crescent moon].\n",
      "\n",
      "[zzz] Time for bed [person in bed]. Reflect on your day and think about what you're grateful for [glowing star]. Sleep tight and sweet dreams! [sleeping face]\n",
      "\n",
      "\n"
     ]
    }
   ],
   "source": [
    "demojified_corpus = demojify(corpus)\n",
    "print(demojified_corpus)"
   ]
  },
  {
   "cell_type": "markdown",
   "metadata": {},
   "source": [
    "# Emoji approach"
   ]
  },
  {
   "cell_type": "code",
   "execution_count": 11,
   "metadata": {},
   "outputs": [
    {
     "name": "stdout",
     "output_type": "stream",
     "text": [
      "Requirement already satisfied: emoji in c:\\users\\asif sayyed\\anaconda3\\lib\\site-packages (2.12.1)\n",
      "Requirement already satisfied: typing-extensions>=4.7.0 in c:\\users\\asif sayyed\\anaconda3\\lib\\site-packages (from emoji) (4.9.0)\n",
      "Note: you may need to restart the kernel to use updated packages.\n"
     ]
    }
   ],
   "source": [
    "pip install emoji"
   ]
  },
  {
   "cell_type": "code",
   "execution_count": 12,
   "metadata": {},
   "outputs": [],
   "source": [
    "import emoji"
   ]
  },
  {
   "cell_type": "code",
   "execution_count": 13,
   "metadata": {},
   "outputs": [
    {
     "name": "stdout",
     "output_type": "stream",
     "text": [
      ":sun_with_face: Good morning! :sun: Time to start the day with a smile :smiling_face_with_smiling_eyes:.\n",
      "\n",
      ":cooking::bread: Breakfast time! What do you prefer: :red_apple: or :banana:? Or maybe a delicious cup of :hot_beverage:?\n",
      "\n",
      ":books::fountain_pen: Work or school is calling. Let's tackle those tasks and make some progress :flexed_biceps:. Remember to stay focused :brain: and take breaks :person_in_bed:.\n",
      "\n",
      ":fork_and_knife: Lunch is here! How about a healthy :green_salad: or a :hamburger:? Don't forget to drink water :droplet:.\n",
      "\n",
      ":deciduous_tree: Afternoon break! Maybe take a walk :man_walking: or read a book :open_book:.\n",
      "\n",
      ":laptop: Back to work! Keep that productivity going. You got this! :trophy:\n",
      "\n",
      ":fork_and_knife_with_plate: Dinner time. Cooking something special tonight? Maybe some :spaghetti: or :sushi:?\n",
      "\n",
      ":sunset: Evening is a perfect time to relax :couch_and_lamp:. Watch a movie :clapper_board:, listen to music :headphone:, or just enjoy some quiet time :crescent_moon:.\n",
      "\n",
      ":ZZZ: Time for bed :person_in_bed:. Reflect on your day and think about what you're grateful for :glowing_star:. Sleep tight and sweet dreams! :sleeping_face:\n",
      "\n",
      "\n"
     ]
    }
   ],
   "source": [
    "emoji_mapped = emoji.demojize(corpus)\n",
    "print(emoji_mapped)"
   ]
  },
  {
   "cell_type": "code",
   "execution_count": null,
   "metadata": {},
   "outputs": [],
   "source": []
  },
  {
   "cell_type": "code",
   "execution_count": null,
   "metadata": {},
   "outputs": [],
   "source": []
  }
 ],
 "metadata": {
  "kernelspec": {
   "display_name": "Python 3",
   "language": "python",
   "name": "python3"
  },
  "language_info": {
   "codemirror_mode": {
    "name": "ipython",
    "version": 3
   },
   "file_extension": ".py",
   "mimetype": "text/x-python",
   "name": "python",
   "nbconvert_exporter": "python",
   "pygments_lexer": "ipython3",
   "version": "3.11.3"
  }
 },
 "nbformat": 4,
 "nbformat_minor": 2
}
