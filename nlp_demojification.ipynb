{
 "cells": [
  {
   "cell_type": "markdown",
   "metadata": {},
   "source": [
    "# Demoji approach"
   ]
  },
  {
   "cell_type": "code",
   "execution_count": null,
   "metadata": {},
   "outputs": [
    {
     "name": "stdout",
     "output_type": "stream",
     "text": [
      "Requirement already satisfied: demoji in c:\\users\\asif sayyed\\anaconda3\\lib\\site-packages (1.1.0)\n",
      "Note: you may need to restart the kernel to use updated packages.\n"
     ]
    }
   ],
   "source": [
    "pip install demoji"
   ]
  },
  {
   "cell_type": "code",
   "execution_count": 6,
   "metadata": {},
   "outputs": [
    {
     "name": "stderr",
     "output_type": "stream",
     "text": [
      "C:\\Users\\Asif Sayyed\\AppData\\Local\\Temp\\ipykernel_9684\\2819647162.py:2: FutureWarning: The demoji.download_codes attribute is deprecated and will be removed from demoji in a future version. It is an unused attribute as emoji codes are now distributed directly with the demoji package.\n",
      "  demoji.download_codes()\n"
     ]
    }
   ],
   "source": [
    "import demoji as de\n",
    "demoji.download_codes()"
   ]
  },
  {
   "cell_type": "code",
   "execution_count": 2,
   "metadata": {},
   "outputs": [],
   "source": [
    "corpus = (\"\"\"🌞 Good morning! ☀️ Time to start the day with a smile 😊.\n",
    "\n",
    "🍳🍞 Breakfast time! What do you prefer: 🍎 or 🍌? Or maybe a delicious cup of ☕️?\n",
    "\n",
    "📚🖋️ Work or school is calling. Let's tackle those tasks and make some progress 💪. Remember to stay focused 🧠 and take breaks 🛌.\n",
    "\n",
    "🍴 Lunch is here! How about a healthy 🥗 or a 🍔? Don't forget to drink water 💧.\n",
    "\n",
    "🌳 Afternoon break! Maybe take a walk 🚶‍♂️ or read a book 📖.\n",
    "\n",
    "💻 Back to work! Keep that productivity going. You got this! 🏆\n",
    "\n",
    "🍽️ Dinner time. Cooking something special tonight? Maybe some 🍝 or 🍣?\n",
    "\n",
    "🌇 Evening is a perfect time to relax 🛋️. Watch a movie 🎬, listen to music 🎧, or just enjoy some quiet time 🌙.\n",
    "\n",
    "💤 Time for bed 🛌. Reflect on your day and think about what you're grateful for 🌟. Sleep tight and sweet dreams! 😴\n",
    "\n",
    "\"\"\")"
   ]
  },
  {
   "cell_type": "code",
   "execution_count": 7,
   "metadata": {},
   "outputs": [
    {
     "data": {
      "text/plain": [
       "{'🍌': 'banana',\n",
       " '🍽️': 'fork and knife with plate',\n",
       " '🌳': 'deciduous tree',\n",
       " '📚': 'books',\n",
       " '🏆': 'trophy',\n",
       " '🍞': 'bread',\n",
       " '🧠': 'brain',\n",
       " '🍳': 'cooking',\n",
       " '🌙': 'crescent moon',\n",
       " '🍔': 'hamburger',\n",
       " '🥗': 'green salad',\n",
       " '💻': 'laptop',\n",
       " '🌟': 'glowing star',\n",
       " '😴': 'sleeping face',\n",
       " '☀️': 'sun',\n",
       " '☕': 'hot beverage',\n",
       " '🎧': 'headphone',\n",
       " '💧': 'droplet',\n",
       " '🖋️': 'fountain pen',\n",
       " '💪': 'flexed biceps',\n",
       " '😊': 'smiling face with smiling eyes',\n",
       " '🛌': 'person in bed',\n",
       " '🍴': 'fork and knife',\n",
       " '🛋️': 'couch and lamp',\n",
       " '📖': 'open book',\n",
       " '🎬': 'clapper board',\n",
       " '💤': 'zzz',\n",
       " '🍝': 'spaghetti',\n",
       " '🌇': 'sunset',\n",
       " '🌞': 'sun with face',\n",
       " '🍣': 'sushi',\n",
       " '🍎': 'red apple',\n",
       " '🚶\\u200d♂️': 'man walking'}"
      ]
     },
     "execution_count": 7,
     "metadata": {},
     "output_type": "execute_result"
    }
   ],
   "source": [
    "de.findall(corpus)"
   ]
  },
  {
   "cell_type": "code",
   "execution_count": 11,
   "metadata": {},
   "outputs": [],
   "source": [
    "def demojify(text: str) -> str:\n",
    "    emoji_dict = de.findall(text)\n",
    "    for emoji, description in emoji_dict.items():\n",
    "        text = text.replace(emoji, f'[{description}]')\n",
    "    return text"
   ]
  },
  {
   "cell_type": "code",
   "execution_count": 12,
   "metadata": {},
   "outputs": [
    {
     "name": "stdout",
     "output_type": "stream",
     "text": [
      "[sun with face] Good morning! [sun] Time to start the day with a smile [smiling face with smiling eyes].\n",
      "\n",
      "[cooking][bread] Breakfast time! What do you prefer: [red apple] or [banana]? Or maybe a delicious cup of [hot beverage]️?\n",
      "\n",
      "[books][fountain pen] Work or school is calling. Let's tackle those tasks and make some progress [flexed biceps]. Remember to stay focused [brain] and take breaks [person in bed].\n",
      "\n",
      "[fork and knife] Lunch is here! How about a healthy [green salad] or a [hamburger]? Don't forget to drink water [droplet].\n",
      "\n",
      "[deciduous tree] Afternoon break! Maybe take a walk [man walking] or read a book [open book].\n",
      "\n",
      "[laptop] Back to work! Keep that productivity going. You got this! [trophy]\n",
      "\n",
      "[fork and knife with plate] Dinner time. Cooking something special tonight? Maybe some [spaghetti] or [sushi]?\n",
      "\n",
      "[sunset] Evening is a perfect time to relax [couch and lamp]. Watch a movie [clapper board], listen to music [headphone], or just enjoy some quiet time [crescent moon].\n",
      "\n",
      "[zzz] Time for bed [person in bed]. Reflect on your day and think about what you're grateful for [glowing star]. Sleep tight and sweet dreams! [sleeping face]\n",
      "\n",
      "\n"
     ]
    }
   ],
   "source": [
    "demojified_corpus = demojify(corpus)\n",
    "print(demojified_corpus)"
   ]
  },
  {
   "cell_type": "code",
   "execution_count": null,
   "metadata": {},
   "outputs": [],
   "source": []
  }
 ],
 "metadata": {
  "kernelspec": {
   "display_name": "Python 3",
   "language": "python",
   "name": "python3"
  },
  "language_info": {
   "codemirror_mode": {
    "name": "ipython",
    "version": 3
   },
   "file_extension": ".py",
   "mimetype": "text/x-python",
   "name": "python",
   "nbconvert_exporter": "python",
   "pygments_lexer": "ipython3",
   "version": "3.11.3"
  }
 },
 "nbformat": 4,
 "nbformat_minor": 2
}
