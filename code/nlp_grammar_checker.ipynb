{
 "cells": [
  {
   "cell_type": "code",
   "execution_count": 1,
   "metadata": {},
   "outputs": [],
   "source": [
    "# pip install language-tool-python"
   ]
  },
  {
   "cell_type": "code",
   "execution_count": 2,
   "metadata": {},
   "outputs": [],
   "source": [
    "import language_tool_python"
   ]
  },
  {
   "cell_type": "code",
   "execution_count": 3,
   "metadata": {},
   "outputs": [],
   "source": [
    "def grammar_checker(text: str) -> str:\n",
    "    \n",
    "    tool = language_tool_python.LanguageTool('en-US')\n",
    "    \n",
    "    matches = tool.check(text)\n",
    "    print(f'original text:{text}')\n",
    "    print(f'corrected text:{tool.correct(text)}')\n",
    "    return '\\n'.join(str(match) for match in matches)"
   ]
  },
  {
   "cell_type": "code",
   "execution_count": 7,
   "metadata": {},
   "outputs": [
    {
     "name": "stdout",
     "output_type": "stream",
     "text": [
      "original text:This is a example of thext with bad grammar and speling mistake.\n",
      "corrected text:This is an example of text with bad grammar and spelling mistake.\n"
     ]
    },
    {
     "data": {
      "text/plain": [
       "'Offset 8, length 1, Rule ID: EN_A_VS_AN\\nMessage: Use “an” instead of ‘a’ if the following word starts with a vowel sound, e.g. ‘an article’, ‘an hour’.\\nSuggestion: an\\nThis is a example of thext with bad grammar and s...\\n        ^\\nOffset 21, length 5, Rule ID: MORFOLOGIK_RULE_EN_US\\nMessage: Possible spelling mistake found.\\nSuggestion: text; theft\\nThis is a example of thext with bad grammar and speling mistake.\\n                     ^^^^^\\nOffset 48, length 7, Rule ID: MORFOLOGIK_RULE_EN_US\\nMessage: Possible spelling mistake found.\\nSuggestion: spelling; spewing; spieling\\n...a example of thext with bad grammar and speling mistake.\\n                                           ^^^^^^^'"
      ]
     },
     "execution_count": 7,
     "metadata": {},
     "output_type": "execute_result"
    }
   ],
   "source": [
    "grammar_checker(\"This is a example of thext with bad grammar and speling mistake.\")"
   ]
  },
  {
   "cell_type": "code",
   "execution_count": null,
   "metadata": {},
   "outputs": [],
   "source": []
  }
 ],
 "metadata": {
  "kernelspec": {
   "display_name": "Python 3",
   "language": "python",
   "name": "python3"
  },
  "language_info": {
   "codemirror_mode": {
    "name": "ipython",
    "version": 3
   },
   "file_extension": ".py",
   "mimetype": "text/x-python",
   "name": "python",
   "nbconvert_exporter": "python",
   "pygments_lexer": "ipython3",
   "version": "3.11.3"
  }
 },
 "nbformat": 4,
 "nbformat_minor": 2
}
