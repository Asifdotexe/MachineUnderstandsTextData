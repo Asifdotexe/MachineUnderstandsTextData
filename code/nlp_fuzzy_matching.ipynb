{
 "cells": [
  {
   "cell_type": "code",
   "execution_count": 8,
   "metadata": {},
   "outputs": [],
   "source": [
    "from thefuzz import fuzz\n",
    "from thefuzz import process"
   ]
  },
  {
   "cell_type": "code",
   "execution_count": 5,
   "metadata": {},
   "outputs": [],
   "source": [
    "# input strings\n",
    "string_1 = \"Data Science and AI\"\n",
    "string_2 = \"Data Science and Artificial Intelligence\""
   ]
  },
  {
   "cell_type": "code",
   "execution_count": 7,
   "metadata": {},
   "outputs": [
    {
     "name": "stdout",
     "output_type": "stream",
     "text": [
      "64%\n"
     ]
    }
   ],
   "source": [
    "similarity_score = fuzz.ratio(string_1, string_2)\n",
    "print(f\"{similarity_score}%\")"
   ]
  },
  {
   "cell_type": "markdown",
   "metadata": {},
   "source": [
    "### Finding best match"
   ]
  },
  {
   "cell_type": "code",
   "execution_count": 17,
   "metadata": {},
   "outputs": [
    {
     "name": "stdout",
     "output_type": "stream",
     "text": [
      "('Data Science & AI', 95)\n"
     ]
    }
   ],
   "source": [
    "choices = [\"Data Science & AI\", \"Machine Learning\", \"Data Sci and AI\", \"AI and Date Science\",]\n",
    "query = \"Data Science and AI\"\n",
    "best_match = process.extractOne(query, choices)\n",
    "print(best_match)"
   ]
  },
  {
   "cell_type": "code",
   "execution_count": 18,
   "metadata": {},
   "outputs": [
    {
     "name": "stdout",
     "output_type": "stream",
     "text": [
      "('Data Science & AI', 95)\n",
      "('AI and Date Science', 90)\n"
     ]
    }
   ],
   "source": [
    "# Extracting best matches based on threshold\n",
    "threshold = 90\n",
    "matches = process.extractBests(query, choices, score_cutoff=threshold)\n",
    "for match in matches:\n",
    "    print(match)"
   ]
  },
  {
   "cell_type": "code",
   "execution_count": null,
   "metadata": {},
   "outputs": [],
   "source": []
  }
 ],
 "metadata": {
  "kernelspec": {
   "display_name": "Python 3",
   "language": "python",
   "name": "python3"
  },
  "language_info": {
   "codemirror_mode": {
    "name": "ipython",
    "version": 3
   },
   "file_extension": ".py",
   "mimetype": "text/x-python",
   "name": "python",
   "nbconvert_exporter": "python",
   "pygments_lexer": "ipython3",
   "version": "3.11.3"
  }
 },
 "nbformat": 4,
 "nbformat_minor": 2
}
