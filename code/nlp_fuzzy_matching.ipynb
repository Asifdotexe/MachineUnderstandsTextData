{
 "cells": [
  {
   "cell_type": "code",
   "execution_count": 28,
   "metadata": {},
   "outputs": [],
   "source": [
    "from thefuzz import fuzz\n",
    "from thefuzz import process\n",
    "import pandas as pd"
   ]
  },
  {
   "cell_type": "code",
   "execution_count": 5,
   "metadata": {},
   "outputs": [],
   "source": [
    "# input strings\n",
    "string_1 = \"Data Science and AI\"\n",
    "string_2 = \"Data Science and Artificial Intelligence\""
   ]
  },
  {
   "cell_type": "code",
   "execution_count": 7,
   "metadata": {},
   "outputs": [
    {
     "name": "stdout",
     "output_type": "stream",
     "text": [
      "64%\n"
     ]
    }
   ],
   "source": [
    "similarity_score = fuzz.ratio(string_1, string_2)\n",
    "print(f\"{similarity_score}%\")"
   ]
  },
  {
   "cell_type": "markdown",
   "metadata": {},
   "source": [
    "### Finding best match"
   ]
  },
  {
   "cell_type": "code",
   "execution_count": 17,
   "metadata": {},
   "outputs": [
    {
     "name": "stdout",
     "output_type": "stream",
     "text": [
      "('Data Science & AI', 95)\n"
     ]
    }
   ],
   "source": [
    "choices = [\"Data Science & AI\", \"Machine Learning\", \"Data Sci and AI\", \"AI and Date Science\",]\n",
    "query = \"Data Science and AI\"\n",
    "best_match = process.extractOne(query, choices)\n",
    "print(best_match)"
   ]
  },
  {
   "cell_type": "code",
   "execution_count": 18,
   "metadata": {},
   "outputs": [
    {
     "name": "stdout",
     "output_type": "stream",
     "text": [
      "('Data Science & AI', 95)\n",
      "('AI and Date Science', 90)\n"
     ]
    }
   ],
   "source": [
    "# Extracting best matches based on threshold\n",
    "threshold = 90\n",
    "matches = process.extractBests(query, choices, score_cutoff=threshold)\n",
    "for match in matches:\n",
    "    print(match)"
   ]
  },
  {
   "cell_type": "markdown",
   "metadata": {},
   "source": [
    "### Partial Ratio"
   ]
  },
  {
   "cell_type": "code",
   "execution_count": 25,
   "metadata": {},
   "outputs": [
    {
     "name": "stdout",
     "output_type": "stream",
     "text": [
      "80%\n"
     ]
    }
   ],
   "source": [
    "partial_score = fuzz.partial_ratio(\"Data Science\", \"Data Sci. and AI\")\n",
    "print(f'{partial_score}%')"
   ]
  },
  {
   "cell_type": "code",
   "execution_count": 32,
   "metadata": {},
   "outputs": [
    {
     "name": "stdout",
     "output_type": "stream",
     "text": [
      "\n",
      "Standardized Data:\n",
      "              Company Name Standardized Company Name\n",
      "0             Google Inc.               Google Inc.\n",
      "1              Google LLC               Google Inc.\n",
      "2                Goooogle               Google Inc.\n",
      "3                 GooGle!               Google Inc.\n",
      "4              Apple Inc.               Google Inc.\n",
      "5                   Apple               Google Inc.\n",
      "6         Microsoft Corp.           Microsoft Corp.\n",
      "7   Microsoft Corporation           Microsoft Corp.\n",
      "8               MicroSoft           Microsoft Corp.\n",
      "9              Amazon.com                Amazon.com\n",
      "10             Amazon Inc                Amazon.com\n",
      "11              Amaaaazon                Amazon.com\n"
     ]
    }
   ],
   "source": [
    "# Sample data\n",
    "data = {\n",
    "    \"Company Name\": [\n",
    "        \"Google Inc.\", \"Google LLC\", \"Goooogle\", \"GooGle!\", \"Apple Inc.\", \"Apple\", \"Microsoft Corp.\", \n",
    "        \"Microsoft Corporation\", \"MicroSoft\", \"Amazon.com\", \"Amazon Inc\", \"Amaaaazon\"\n",
    "    ]\n",
    "}\n",
    "\n",
    "df = pd.DataFrame(data)\n",
    "\n",
    "def standardize_company_names(df, threshold=80):\n",
    "    # Create a dictionary to map original names to standardized names\n",
    "    standard_name_map = {}\n",
    "\n",
    "    # Iterate over each company name\n",
    "    for name in df['Company Name']:\n",
    "        if name not in standard_name_map:\n",
    "            # Find the best match for the current name within existing names in the map\n",
    "            match_result = process.extractOne(name, standard_name_map.keys(), scorer=fuzz.partial_ratio, score_cutoff=threshold)\n",
    "\n",
    "            if match_result:\n",
    "                match, score = match_result\n",
    "                standard_name_map[name] = standard_name_map[match]\n",
    "            else:\n",
    "                standard_name_map[name] = name\n",
    "\n",
    "    # Replace the names in the DataFrame with the standardized names\n",
    "    df['Standardized Company Name'] = df['Company Name'].map(standard_name_map)\n",
    "\n",
    "    return df\n",
    "\n",
    "df_standardized = standardize_company_names(df)\n",
    "print(\"\\nStandardized Data:\\n\", df_standardized)"
   ]
  },
  {
   "cell_type": "code",
   "execution_count": null,
   "metadata": {},
   "outputs": [],
   "source": []
  }
 ],
 "metadata": {
  "kernelspec": {
   "display_name": "Python 3",
   "language": "python",
   "name": "python3"
  },
  "language_info": {
   "codemirror_mode": {
    "name": "ipython",
    "version": 3
   },
   "file_extension": ".py",
   "mimetype": "text/x-python",
   "name": "python",
   "nbconvert_exporter": "python",
   "pygments_lexer": "ipython3",
   "version": "3.11.3"
  }
 },
 "nbformat": 4,
 "nbformat_minor": 2
}
