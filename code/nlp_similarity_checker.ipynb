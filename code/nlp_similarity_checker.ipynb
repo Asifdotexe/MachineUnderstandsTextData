{
 "cells": [
  {
   "cell_type": "code",
   "execution_count": 4,
   "metadata": {},
   "outputs": [
    {
     "name": "stderr",
     "output_type": "stream",
     "text": [
      "[nltk_data] Downloading package omw-1.4 to C:\\Users\\Asif\n",
      "[nltk_data]     Sayyed\\AppData\\Roaming\\nltk_data...\n",
      "[nltk_data]   Package omw-1.4 is already up-to-date!\n"
     ]
    },
    {
     "data": {
      "text/plain": [
       "True"
      ]
     },
     "execution_count": 4,
     "metadata": {},
     "output_type": "execute_result"
    }
   ],
   "source": [
    "# pip install spacy\n",
    "#!python -m spacy download en_core_web_md\n",
    "import nltk\n",
    "import spacy\n",
    "from nltk.corpus import wordnet\n",
    "nltk.download('omw-1.4')"
   ]
  },
  {
   "cell_type": "code",
   "execution_count": 5,
   "metadata": {},
   "outputs": [],
   "source": [
    "# loading the pretrained model\n",
    "NLP = spacy.load(\"en_core_web_md\")"
   ]
  },
  {
   "cell_type": "code",
   "execution_count": 17,
   "metadata": {},
   "outputs": [],
   "source": [
    "def calculate_similarity(input1: str, input2: str) -> float:\n",
    "    \"\"\"\n",
    "    This function calculates the semantic similarity between two input strings.\n",
    "    It supports comparing single words, sentences, and word-sentence combinations.\n",
    "    The function uses WordNet for word-level similarity and Spacy for sentence-level similarity.\n",
    "\n",
    "    Parameters:\n",
    "    input1 (str): The first input string.\n",
    "    input2 (str): The second input string.\n",
    "\n",
    "    Returns:\n",
    "    float: The semantic similarity score between the input strings.\n",
    "           The score ranges from 0.0 (no similarity) to 1.0 (high similarity).\n",
    "    \"\"\"\n",
    "    # Split inputs into words to check their type\n",
    "    input1_words = input1.split()\n",
    "    input2_words = input2.split()\n",
    "    \n",
    "    if len(input1_words) == 1 and len(input2_words) == 1:\n",
    "        # Both inputs are single words. Use WordNet for comparison.\n",
    "        synsets1 = wordnet.synsets(input1)\n",
    "        synsets2 = wordnet.synsets(input2)\n",
    "        \n",
    "        if synsets1 and synsets2:  # Check if synsets are found\n",
    "            synset1 = synsets1[0]\n",
    "            synset2 = synsets2[0]\n",
    "            similarity = synset1.wup_similarity(synset2)\n",
    "            return similarity if similarity is not None else 0.0\n",
    "        else:\n",
    "            return 0.0  # Return 0.0 if no synsets are found\n",
    "\n",
    "    elif len(input1_words) > 1 and len(input2_words) > 1:\n",
    "        # Both inputs are sentences. Use spaCy for similarity.\n",
    "        doc1 = NLP(input1)\n",
    "        doc2 = NLP(input2)\n",
    "        similarity = doc1.similarity(doc2)\n",
    "        return similarity\n",
    "\n",
    "    else:\n",
    "        # One input is a single word and the other is a sentence.\n",
    "        word = input1 if len(input1_words) == 1 else input2\n",
    "        sentence = input1 if len(input1_words) > 1 else input2\n",
    "        word_synsets = wordnet.synsets(word)\n",
    "        \n",
    "        if not word_synsets:\n",
    "            return 0.0  # Return 0.0 if no synsets are found for the word\n",
    "        \n",
    "        word_synset = word_synsets[0]\n",
    "        sentence_doc = NLP(sentence)\n",
    "        \n",
    "        max_similarity = 0.0\n",
    "        for token in sentence_doc:\n",
    "            token_synsets = wordnet.synsets(token.text)\n",
    "            if token_synsets:\n",
    "                token_synset = token_synsets[0]\n",
    "                similarity = word_synset.wup_similarity(token_synset)\n",
    "                if similarity and similarity > max_similarity:\n",
    "                    max_similarity = similarity\n",
    "        \n",
    "        return max_similarity"
   ]
  },
  {
   "cell_type": "code",
   "execution_count": 21,
   "metadata": {},
   "outputs": [
    {
     "data": {
      "text/plain": [
       "0.3333333333333333"
      ]
     },
     "execution_count": 21,
     "metadata": {},
     "output_type": "execute_result"
    }
   ],
   "source": [
    "calculate_similarity(\"slim\", \"shady\")"
   ]
  },
  {
   "cell_type": "code",
   "execution_count": 22,
   "metadata": {},
   "outputs": [
    {
     "data": {
      "text/plain": [
       "0.5172432380994461"
      ]
     },
     "execution_count": 22,
     "metadata": {},
     "output_type": "execute_result"
    }
   ],
   "source": [
    "calculate_similarity(\"Eminem is the real Slim Shady\", \"The real Slim Shady just stands up, so everyone should pay attention!\")"
   ]
  },
  {
   "cell_type": "code",
   "execution_count": 23,
   "metadata": {},
   "outputs": [
    {
     "data": {
      "text/plain": [
       "0.25"
      ]
     },
     "execution_count": 23,
     "metadata": {},
     "output_type": "execute_result"
    }
   ],
   "source": [
    "calculate_similarity(\"rap\", \"Eminem once rapped so fast even the mic got dizzy\")"
   ]
  }
 ],
 "metadata": {
  "kernelspec": {
   "display_name": "Python 3",
   "language": "python",
   "name": "python3"
  },
  "language_info": {
   "codemirror_mode": {
    "name": "ipython",
    "version": 3
   },
   "file_extension": ".py",
   "mimetype": "text/x-python",
   "name": "python",
   "nbconvert_exporter": "python",
   "pygments_lexer": "ipython3",
   "version": "3.11.3"
  }
 },
 "nbformat": 4,
 "nbformat_minor": 2
}
