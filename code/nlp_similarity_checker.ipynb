{
 "cells": [
  {
   "cell_type": "code",
   "execution_count": 4,
   "metadata": {},
   "outputs": [
    {
     "name": "stderr",
     "output_type": "stream",
     "text": [
      "[nltk_data] Downloading package omw-1.4 to C:\\Users\\Asif\n",
      "[nltk_data]     Sayyed\\AppData\\Roaming\\nltk_data...\n",
      "[nltk_data]   Package omw-1.4 is already up-to-date!\n"
     ]
    },
    {
     "data": {
      "text/plain": [
       "True"
      ]
     },
     "execution_count": 4,
     "metadata": {},
     "output_type": "execute_result"
    }
   ],
   "source": [
    "# pip install spacy\n",
    "#!python -m spacy download en_core_web_md\n",
    "import nltk\n",
    "import spacy\n",
    "from nltk.corpus import wordnet\n",
    "nltk.download('omw-1.4')"
   ]
  },
  {
   "cell_type": "code",
   "execution_count": 5,
   "metadata": {},
   "outputs": [],
   "source": [
    "# loading the pretrained model\n",
    "NLP = spacy.load(\"en_core_web_md\")"
   ]
  },
  {
   "cell_type": "code",
   "execution_count": null,
   "metadata": {},
   "outputs": [],
   "source": [
    "def calculate_similarity(input1: str, input2: str) -> float:\n",
    "    \"\"\"\n",
    "    This function calculates the semantic similarity between two input strings.\n",
    "    It supports comparing single words, sentences, and word-sentence combinations.\n",
    "    The function uses WordNet for word-level similarity and Spacy for sentence-level similarity.\n",
    "\n",
    "    Parameters:\n",
    "    input1 (str): The first input string.\n",
    "    input2 (str): The second input string.\n",
    "\n",
    "    Returns:\n",
    "    float: The semantic similarity score between the input strings.\n",
    "           The score ranges from 0.0 (no similarity) to 1.0 (high similarity).\n",
    "    \"\"\"\n",
    "    input1_words = input1.split()\n",
    "    input2_words = input2.split()\n",
    "    \n",
    "    if len(input1_words) == 1 and len(input2_words) == 1:\n",
    "        synsets1 = wordnet.synset(input1)\n",
    "        synsets2 = wordnet.synset(input2)\n",
    "        if synsets1 and synsets2:\n",
    "            synset1 = synset1[0]\n",
    "            synset2 = synset2[0]\n",
    "            similarity = synset1.wup_similarity(synset2)\n",
    "            return similarity if similarity is not None else 0.0\n",
    "        else:\n",
    "            return 0.0\n",
    "        \n",
    "    elif len(input1_words) > 1 and len(input2_words) > 1:\n",
    "        document1 = NLP(input1)\n",
    "        document2 = NLP(input2)\n",
    "        similarity = document1.similarity(document2)\n",
    "        return similarity\n",
    "    \n",
    "    else:\n",
    "        # One input is a single word and the other is a sentence\n",
    "        word = input1 if len(input1_words) == 1 else input2\n",
    "        sentence = input1 if len(input1_words) > 1 else input2\n",
    "        word_synsets = wordnet.synsets(word)\n",
    "        \n",
    "        if not word_synsets:\n",
    "            return 0.0  # Return 0.0 if no synsets are found for the word\n",
    "        \n",
    "        word_synset = word_synsets[0]\n",
    "        sentence_doc = NLP(sentence)\n",
    "        \n",
    "        max_similarity = 0.0\n",
    "        for token in sentence_doc:\n",
    "            token_synsets = wordnet.synsets(token.text)\n",
    "            if token_synsets:\n",
    "                token_synset = token_synsets[0]\n",
    "                similarity = word_synset.wup_similarity(token_synset)\n",
    "                if similarity and similarity > max_similarity:\n",
    "                    max_similarity = similarity\n",
    "        \n",
    "        return max_similarity        "
   ]
  }
 ],
 "metadata": {
  "kernelspec": {
   "display_name": "Python 3",
   "language": "python",
   "name": "python3"
  },
  "language_info": {
   "codemirror_mode": {
    "name": "ipython",
    "version": 3
   },
   "file_extension": ".py",
   "mimetype": "text/x-python",
   "name": "python",
   "nbconvert_exporter": "python",
   "pygments_lexer": "ipython3",
   "version": "3.11.3"
  }
 },
 "nbformat": 4,
 "nbformat_minor": 2
}
