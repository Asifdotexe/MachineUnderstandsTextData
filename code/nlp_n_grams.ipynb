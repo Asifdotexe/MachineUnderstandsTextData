{
 "cells": [
  {
   "cell_type": "code",
   "execution_count": 2,
   "metadata": {},
   "outputs": [],
   "source": [
    "# pip install transformers"
   ]
  },
  {
   "cell_type": "code",
   "execution_count": 21,
   "metadata": {},
   "outputs": [
    {
     "name": "stderr",
     "output_type": "stream",
     "text": [
      "[nltk_data] Downloading package punkt to C:\\Users\\Asif\n",
      "[nltk_data]     Sayyed\\AppData\\Roaming\\nltk_data...\n",
      "[nltk_data]   Package punkt is already up-to-date!\n",
      "[nltk_data] Downloading package stopwords to C:\\Users\\Asif\n",
      "[nltk_data]     Sayyed\\AppData\\Roaming\\nltk_data...\n",
      "[nltk_data]   Package stopwords is already up-to-date!\n"
     ]
    },
    {
     "data": {
      "text/plain": [
       "True"
      ]
     },
     "execution_count": 21,
     "metadata": {},
     "output_type": "execute_result"
    }
   ],
   "source": [
    "import nltk\n",
    "import string\n",
    "from nltk import ngrams\n",
    "from nltk.corpus import stopwords\n",
    "\n",
    "nltk.download('punkt')\n",
    "nltk.download('stopwords')"
   ]
  },
  {
   "cell_type": "code",
   "execution_count": 22,
   "metadata": {},
   "outputs": [],
   "source": [
    "text = \"Alex Periera is the GOAT\""
   ]
  },
  {
   "cell_type": "code",
   "execution_count": 23,
   "metadata": {},
   "outputs": [
    {
     "name": "stdout",
     "output_type": "stream",
     "text": [
      "['Alex', 'Periera', 'is', 'the', 'GOAT']\n"
     ]
    }
   ],
   "source": [
    "tokens = nltk.word_tokenize(text)\n",
    "print(tokens)"
   ]
  },
  {
   "cell_type": "code",
   "execution_count": 24,
   "metadata": {},
   "outputs": [
    {
     "name": "stdout",
     "output_type": "stream",
     "text": [
      "[('Alex',), ('Periera',), ('is',), ('the',), ('GOAT',)]\n"
     ]
    }
   ],
   "source": [
    "unigrams = list(ngrams(tokens,1))\n",
    "print(unigrams)"
   ]
  },
  {
   "cell_type": "code",
   "execution_count": 25,
   "metadata": {},
   "outputs": [
    {
     "name": "stdout",
     "output_type": "stream",
     "text": [
      "[('Alex', 'Periera'), ('Periera', 'is'), ('is', 'the'), ('the', 'GOAT')]\n"
     ]
    }
   ],
   "source": [
    "bigram = list(ngrams(tokens,2))\n",
    "print(bigram)"
   ]
  },
  {
   "cell_type": "code",
   "execution_count": 26,
   "metadata": {},
   "outputs": [
    {
     "name": "stdout",
     "output_type": "stream",
     "text": [
      "[('Alex', 'Periera', 'is'), ('Periera', 'is', 'the'), ('is', 'the', 'GOAT')]\n"
     ]
    }
   ],
   "source": [
    "trigram = list(ngrams(tokens,3))\n",
    "print(trigram)"
   ]
  },
  {
   "cell_type": "code",
   "execution_count": 27,
   "metadata": {},
   "outputs": [],
   "source": [
    "test = (\"\"\"Natural language processing (NLP) is a machine learning technology that gives computers the ability to interpret, \n",
    "          manipulate, and comprehend human language. Organizations today have large volumes of voice and text data from various communication channels like emails, \n",
    "          text messages, social media newsfeeds, video, audio, and more. They use NLP software to automatically process this data, \n",
    "          analyze the intent or sentiment in the message, and respond in real time to human communication.\"\"\")"
   ]
  },
  {
   "cell_type": "code",
   "execution_count": 29,
   "metadata": {},
   "outputs": [
    {
     "name": "stdout",
     "output_type": "stream",
     "text": [
      "['Natural', 'language', 'processing', 'NLP', 'machine', 'learning', 'technology', 'gives', 'computers', 'ability', 'interpret', 'manipulate', 'comprehend', 'human', 'language', 'Organizations', 'today', 'large', 'volumes', 'voice', 'text', 'data', 'various', 'communication', 'channels', 'like', 'emails', 'text', 'messages', 'social', 'media', 'newsfeeds', 'video', 'audio', 'use', 'NLP', 'software', 'automatically', 'process', 'data', 'analyze', 'intent', 'sentiment', 'message', 'respond', 'real', 'time', 'human', 'communication']\n"
     ]
    }
   ],
   "source": [
    "tokens = nltk.word_tokenize(test)\n",
    "stop_words = set(stopwords.words('english'))\n",
    "filtered_words = [token for token in tokens if token.lower() not in stop_words and token not in string.punctuation]\n",
    "print(filtered_words)"
   ]
  },
  {
   "cell_type": "code",
   "execution_count": 30,
   "metadata": {},
   "outputs": [
    {
     "name": "stdout",
     "output_type": "stream",
     "text": [
      "Bigrams: [('Natural', 'language'), ('language', 'processing'), ('processing', 'NLP'), ('NLP', 'machine'), ('machine', 'learning'), ('learning', 'technology'), ('technology', 'gives'), ('gives', 'computers'), ('computers', 'ability'), ('ability', 'interpret'), ('interpret', 'manipulate'), ('manipulate', 'comprehend'), ('comprehend', 'human'), ('human', 'language'), ('language', 'Organizations'), ('Organizations', 'today'), ('today', 'large'), ('large', 'volumes'), ('volumes', 'voice'), ('voice', 'text'), ('text', 'data'), ('data', 'various'), ('various', 'communication'), ('communication', 'channels'), ('channels', 'like'), ('like', 'emails'), ('emails', 'text'), ('text', 'messages'), ('messages', 'social'), ('social', 'media'), ('media', 'newsfeeds'), ('newsfeeds', 'video'), ('video', 'audio'), ('audio', 'use'), ('use', 'NLP'), ('NLP', 'software'), ('software', 'automatically'), ('automatically', 'process'), ('process', 'data'), ('data', 'analyze'), ('analyze', 'intent'), ('intent', 'sentiment'), ('sentiment', 'message'), ('message', 'respond'), ('respond', 'real'), ('real', 'time'), ('time', 'human'), ('human', 'communication')]\n"
     ]
    }
   ],
   "source": [
    "bigrams = list(ngrams(filtered_words, 2))\n",
    "print(\"Bigrams:\", bigrams)"
   ]
  },
  {
   "cell_type": "code",
   "execution_count": null,
   "metadata": {},
   "outputs": [],
   "source": []
  }
 ],
 "metadata": {
  "kernelspec": {
   "display_name": "Python 3",
   "language": "python",
   "name": "python3"
  },
  "language_info": {
   "codemirror_mode": {
    "name": "ipython",
    "version": 3
   },
   "file_extension": ".py",
   "mimetype": "text/x-python",
   "name": "python",
   "nbconvert_exporter": "python",
   "pygments_lexer": "ipython3",
   "version": "3.11.3"
  }
 },
 "nbformat": 4,
 "nbformat_minor": 2
}
