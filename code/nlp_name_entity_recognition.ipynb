{
 "cells": [
  {
   "cell_type": "markdown",
   "metadata": {},
   "source": [
    "# Name Entity Recognition\n",
    "\n",
    "Named Entity Recognition (NER) is a natural language processing (NLP) technique that identifies and classifies key entities in text into predefined categories like names of people, organizations, locations, dates, and more.\n",
    "\n",
    "Use Cases:\n",
    "1. Information Extraction: Extracting structured data from unstructured text, such as pulling out names and dates from news articles.\n",
    "2. Search Engines: Enhancing search results by understanding and categorizing entities in queries.\n",
    "3. Customer Support: Automating the extraction of relevant information from customer inquiries to route them to the appropriate department.\n",
    "4. Content Analysis: Analyzing social media to identify trends, such as detecting mentions of specific brands or products.\n",
    "\n",
    "Examples:\n",
    "> Text: \"Apple Inc. was founded by Steve Jobs in Cupertino on April 1, 1976.\"\n",
    "\n",
    "Entities:\n",
    "- Organization: Apple Inc.\n",
    "- Person: Steve Jobs\n",
    "- Location: Cupertino\n",
    "- Date: April 1, 1976\n",
    "\n",
    "> Text: \"Barack Obama visited Paris last summer to discuss climate change.\"\n",
    "\n",
    "Entities:\n",
    "- Person: Barack Obama\n",
    "- Location: Paris\n",
    "- Time: last summer"
   ]
  },
  {
   "cell_type": "code",
   "execution_count": 6,
   "metadata": {},
   "outputs": [],
   "source": [
    "import spacy\n",
    "# !python -m spacy download en_core_web_md"
   ]
  },
  {
   "cell_type": "code",
   "execution_count": 5,
   "metadata": {},
   "outputs": [],
   "source": [
    "nlp = spacy.load('en_core_web_md')"
   ]
  },
  {
   "cell_type": "code",
   "execution_count": 8,
   "metadata": {},
   "outputs": [],
   "source": [
    "text = \"Apple is looking at buying U.K startup for $1 billion. John Does, the CEO of Apple\""
   ]
  },
  {
   "cell_type": "code",
   "execution_count": 9,
   "metadata": {},
   "outputs": [],
   "source": [
    "doc = nlp(text)"
   ]
  },
  {
   "cell_type": "code",
   "execution_count": 10,
   "metadata": {},
   "outputs": [
    {
     "name": "stdout",
     "output_type": "stream",
     "text": [
      "Apple ORG\n",
      "U.K ORG\n",
      "$1 billion MONEY\n",
      "John Does PERSON\n",
      "Apple ORG\n"
     ]
    }
   ],
   "source": [
    "for ent in doc.ents:\n",
    "    print(ent.text,ent.label_)"
   ]
  }
 ],
 "metadata": {
  "kernelspec": {
   "display_name": "venv",
   "language": "python",
   "name": "python3"
  },
  "language_info": {
   "codemirror_mode": {
    "name": "ipython",
    "version": 3
   },
   "file_extension": ".py",
   "mimetype": "text/x-python",
   "name": "python",
   "nbconvert_exporter": "python",
   "pygments_lexer": "ipython3",
   "version": "3.11.3"
  }
 },
 "nbformat": 4,
 "nbformat_minor": 2
}
