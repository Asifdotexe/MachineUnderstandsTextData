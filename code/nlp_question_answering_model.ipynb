{
 "cells": [
  {
   "cell_type": "code",
   "execution_count": 1,
   "metadata": {},
   "outputs": [],
   "source": [
    "from transformers import RobertaTokenizer, RobertaForQuestionAnswering\n",
    "from transformers import pipeline"
   ]
  },
  {
   "cell_type": "code",
   "execution_count": 4,
   "metadata": {},
   "outputs": [
    {
     "name": "stderr",
     "output_type": "stream",
     "text": [
      "c:\\Users\\Asif Sayyed\\Documents\\GitHub\\MachineUnderstandsTextData\\venv\\Lib\\site-packages\\transformers\\tokenization_utils_base.py:1601: FutureWarning: `clean_up_tokenization_spaces` was not set. It will be set to `True` by default. This behavior will be depracted in transformers v4.45, and will be then set to `False` by default. For more details check this issue: https://github.com/huggingface/transformers/issues/31884\n",
      "  warnings.warn(\n"
     ]
    }
   ],
   "source": [
    "model_name = 'deepset/roberta-base-squad2'\n",
    "tokenizer = RobertaTokenizer.from_pretrained(model_name)\n",
    "model = RobertaForQuestionAnswering.from_pretrained(model_name)"
   ]
  },
  {
   "cell_type": "code",
   "execution_count": 5,
   "metadata": {},
   "outputs": [],
   "source": [
    "qa_pipeline = pipeline(\"question-answering\", model=model, tokenizer=tokenizer)"
   ]
  },
  {
   "cell_type": "code",
   "execution_count": 6,
   "metadata": {},
   "outputs": [],
   "source": [
    "context = \"\"\"Marsh & McLennan Companies, Inc., doing business as Marsh McLennan, is a global professional services firm, headquartered in New York City with businesses in insurance brokerage, risk management, reinsurance services, talent management, investment advisory, and management consulting.[3] Its four main operating companies are Marsh, Guy Carpenter, Mercer, and Oliver Wyman.[4]\n",
    "\n",
    "Marsh McLennan ranked #212 on the 2018 Fortune 500 ranking, the company's 24th year on the annual Fortune list,[5] and #458 on the 2017 Forbes Global 2000 List.[6]\n",
    "\n",
    "In 2017, Business Insurance ranked Marsh McLennan #1 of the world's largest insurance brokers.[7]\n",
    "\n",
    "History\n",
    "Foundation and early years\n",
    "\n",
    "Marsh & McLennan Companies previous logo\n",
    "Burroughs, Marsh & McLennan was formed by Henry W. Marsh and Donald R. McLennan in Chicago in 1905. It was renamed as Marsh & McLennan in 1906.[8]\n",
    "\n",
    "The reinsurance firm Guy Carpenter & Company was acquired in 1923, a year after it was founded by Guy Carpenter.[9] In 1959, it acquired the human resources consulting firm Mercer.[10]\n",
    "\n",
    "The 1960s were particularly notable for the company's development, including an initial public offering in 1962 and a 1969 reorganization that introduced a holding company configuration, with the company offering clients its services under the banners of separately managed companies.[9]\n",
    "\n",
    "In 1970, the company purchased Putnam Investments, adding a mutual fund business to its portfolio (and sold it in 2007).[11]\n",
    "\n",
    "Temple, Barker & Sloane\n",
    "In 1987, Marsh & McLennan acquired the consultancy Temple, Barker & Sloane.[12] Founded in Lexington, Massachusetts in 1969, Temple, Barker & Sloane found quick success in the management consulting industry.[13] In a candid interview with The Christian Science Monitor, Carl Sloane said \"In the 1960s, if you had a Harvard MBA, a blue serge suit, and an air travel card, you were a consultant.\" But as the recession of the 1980s began, he noted that \"Now the clients have their own bright MBAs, and you have to offer a range of specialized services.''[14]\n",
    "\n",
    "Temple, Barker & Sloane found themselves specializing in supply chain management, transportation, and financial services. They conducted studies for the United States Coast Guard to determine if the nation should sign onto international oil protocols in the 70s;[15] restructured American Presidential Lines,[16] which became the largest American shipping company in the Pacific in the 80s;[17] and found alternate uses for state-owned railcars when freight trains declined in popularity in the 90s.[18] The firm also employed Burunda Prince, who would go on to become the first female consultant of color at Bain & Company.[19][20]\n",
    "\n",
    "In 1971, the chairman of the firm's board gave an expert testimony analyzing the impacts of the Energy Policy and Conservation Act based on Temple, Barker & Sloane's experience in the marine transportation industry. U.S. Congressman Edward Garmatz proclaimed it the best presentation he had \"ever seen or heard in [his] many years here in the Congress.\"[21]\n",
    "\n",
    "In 1983, the firm was commissioned by the U.S. Department of Agriculture to investigate allegations of poor meat and poultry regulations by environmental activist Ralph Nader. When Nader discovered that the USDA's response had been contracted out, he called the project a \"deplorable waste of taxpayers' money\". A spokesperson from the Agricultural Department confirmed that Temple, Barker & Sloane had a blanket contract for $100,000 and stated \"We did ask them to look into the Nader charges and some other miscellaneous assignments... It's not unusual to have an outside firm take a look at it when serious charges are made against the department.\"[22] After reading the firm's report, U.S. Representative Tom Harkin decided not to conduct hearings into Nader's charges, declaring that he was \"satisfied the Reagan administration is not imperiling the nation's meat and poultry inspection program\".[23]\n",
    "\n",
    "At the time of acquisition, the firm was worth an estimated $45 million in 1987 US dollars, or over $100 million today.[24][25]\n",
    "\n",
    "Strategic Planning Associates merger\n",
    "In 1989, Washington, DC-based international management consulting firm Strategic Planning Associates merged with Marsh & McLennan. Founded by former Boston Consulting Group associate Walker Lewis in 1981, Strategic Planning Associates applied concepts of computing to strategy consulting.[26] By 1986, the consultancy was worth $25 million in 1990 US dollars, but just two clients accounted for more than 40% of their revenue. When one of these clients dropped the firm in 1987, Lewis became increasingly convinced that the firm was too small to succeed, admitting to The Washington Post that \"a meaningful-sized consulting company has to be 2,000 professionals or larger... it's simple math.\"[27]\n",
    "\n",
    "Mercer Management Consulting\n",
    "In 1990, Temple Barker & Sloan was merged with Strategic Planning Associates to form Mercer Management Consulting.[28][29]\n",
    "\n",
    "Developments leading to current structure\n",
    "In 1997, the company significantly boosted its insurance brokerage business with a $1.8 billion acquisition of Johnson & Higgins, which, at the time, was one of MMC's biggest competitors in its brokerage business. The purchase occurred during a time of consolidation in the industry, and pushed Marsh & McLennan back above Aon as the world's largest insurance broker.[30][31]\n",
    "\n",
    "Throughout the 2000s, the company further transformed and focused its operating strategy through various acquisitions and divestment at its subsidiaries, including:\n",
    "\n",
    "In 2000, Marsh & McLennan's HR consulting unit, Mercer, acquired Delta Consulting Group for its organizational development and change management expertise.[32]\n",
    "In 2003, the company acquired Oliver Wyman, a management consultancy with a large financial services industry clientele.[33] The acquisition served to transform MMC from a company known mostly for its insurance brokerage services into one with a full-fledged management consulting practice that competes with McKinsey, Boston Consulting Group, and others.[1]\n",
    "In 2007, Marsh & McLennan sold its Putnam Investments mutual fund business to Power Financial Corp. for $3.9 billion in a divestment meant to focus the parent company on its risk and human capital businesses.[11]\n",
    "Also in 2007, the company announced that its insurance brokerage unit, Marsh, had received the first license for a wholly owned foreign company to operate an insurance brokerage business in China.[34]\n",
    "In May 2007, the company combined three Mercer consulting units - Mercer Delta Consulting, Mercer Oliver Wyman and Mercer Management Consulting - into Oliver Wyman.[35]\n",
    "In 2010, the company sold Kroll, its corporate intelligence and investigative unit, to Altegrity Inc. for $1.13 billion. Prior to this final deal and divestiture, Marsh & McLennan had been selling off smaller divisions within Kroll to further focus on its core risk and consulting businesses.[36]\n",
    "In September 2018 the company agreed to acquire London-based Jardine Lloyd Thompson for £4.3 billion.[37] The transaction was completed on 1 April 2019.[38]\n",
    "In July 2017, Marsh & McLennan Cos. Inc. was ranked first in Business Insurance's world's largest brokers list.[7]\n",
    "\n",
    "September 11 attacks\n",
    "\n",
    "Memorial Wall for perished Marsh McLennan employees in the September 11 attacks.\n",
    "At the time of the 2001 September 11 attacks in the United States, the corporation held offices on eight floors, 93 to 100, of the North Tower of the World Trade Center.[39] When American Airlines Flight 11 crashed into the building, its offices spanned the entire impact zone, floors 93 to 99.[40] Everyone present in the company's offices on the day of the attack died as all stairwells and elevators passing through the impact zone were destroyed or blocked by the crash or the direct impact of the plane crashing into the tower where the company was; the firm lost 295 employees and 63 contractors.[1] A memorial to those lost on 9/11 is located in the plaza adjacent to Marsh McLennan's New York Headquarters at 1166 Avenue of the Americas.[41]\n",
    "\n",
    "2004 bid-rigging investigation\n",
    "In 2004, Marsh, the company's insurance brokerage unit, was embroiled in a bid rigging scandal that plagued much of the insurance industry, including brokerage rivals Aon and Willis Group, and insurer AIG.[42] In a lawsuit, Eliot Spitzer, then New York State's attorney general, accused Marsh of not serving as an unbiased broker, leading to increased costs for clients and higher revenues for Marsh. In early 2005, Marsh agreed to pay $850 million to settle the lawsuit and compensate clients whose commercial insurance it arranged from 2001 to 2004.[43]\n",
    "\n",
    "Much of Marsh & McLennan's corporate strategy since 2005 stemmed from an effort to recover from this tumultuous period, eventually leading to the firm's current organization and simplified focus on insurance services and consulting.[44]\n",
    "\n",
    "Jardine Lloyd Thompson (JLT)\n",
    "In September 2018 Marsh & McLennan made an offer to British financial company JLT, valuing that company at £4.3 billion.[45] The transaction was completed on 1 April 2019.[46]\n",
    "\n",
    "Marsh McLennan\n",
    "In April 2021, Marsh & McLennan Companies rebranded to Marsh McLennan coinciding with the 150th anniversary of subsidiary Marsh.\n",
    "\n",
    "Operating segments and subsidiaries\n",
    "Marsh & McLennan Companies is composed of two primary business segments: Risk and Insurance Services, and Consulting.[47]\n",
    "\n",
    "Risk and insurance services\n",
    "Marsh, which provides insurance brokering and risk management consulting, including strategic, cyber,[48][49] property, casualty, enterprise risk management, crisis management, and more.[50][51] John Doyle was president and CEO of Marsh from 2017 - 2022, before succeeding Dan Glaser as president and CEO of the parent company, MMC, as of January 1, 2023.[52][53]\n",
    "Guy Carpenter, a risk and reinsurance intermediary[54]\n",
    "Consulting\n",
    "Mercer, offering health, retirement, talent, and investment consulting services[54]\n",
    "Oliver Wyman, a collection of management consulting firms (including Oliver Wyman, Lippincott, and NERA Economic Consulting)[55]\n",
    "\"\"\""
   ]
  },
  {
   "cell_type": "code",
   "execution_count": 7,
   "metadata": {},
   "outputs": [],
   "source": [
    "question = 'What is Marsh McLennan'"
   ]
  },
  {
   "cell_type": "code",
   "execution_count": 8,
   "metadata": {},
   "outputs": [
    {
     "name": "stdout",
     "output_type": "stream",
     "text": [
      "a global professional services firm,\n"
     ]
    }
   ],
   "source": [
    "result = qa_pipeline(question=question, context=context)\n",
    "print(result['answer'])"
   ]
  },
  {
   "cell_type": "code",
   "execution_count": 9,
   "metadata": {},
   "outputs": [
    {
     "name": "stdout",
     "output_type": "stream",
     "text": [
      "1969,\n"
     ]
    }
   ],
   "source": [
    "question = 'When was it founded?'\n",
    "result = qa_pipeline(question=question, context=context)\n",
    "print(result['answer'])"
   ]
  },
  {
   "cell_type": "code",
   "execution_count": 10,
   "metadata": {},
   "outputs": [
    {
     "name": "stdout",
     "output_type": "stream",
     "text": [
      "Henry W. Marsh and Donald R. McLennan\n"
     ]
    }
   ],
   "source": [
    "question = 'Who founded it?'\n",
    "result = qa_pipeline(question=question, context=context)\n",
    "print(result['answer'])"
   ]
  },
  {
   "cell_type": "code",
   "execution_count": 11,
   "metadata": {},
   "outputs": [
    {
     "name": "stdout",
     "output_type": "stream",
     "text": [
      "Operating segments and subsidiaries\n"
     ]
    }
   ],
   "source": [
    "question = 'Does it have any subsidiaries?'\n",
    "result = qa_pipeline(question=question, context=context)\n",
    "print(result['answer'])"
   ]
  },
  {
   "cell_type": "code",
   "execution_count": 12,
   "metadata": {},
   "outputs": [
    {
     "name": "stdout",
     "output_type": "stream",
     "text": [
      "Jardine Lloyd Thompson\n"
     ]
    }
   ],
   "source": [
    "question = 'Which company did it acquire?'\n",
    "result = qa_pipeline(question=question, context=context)\n",
    "print(result['answer'])"
   ]
  }
 ],
 "metadata": {
  "kernelspec": {
   "display_name": "venv",
   "language": "python",
   "name": "python3"
  },
  "language_info": {
   "codemirror_mode": {
    "name": "ipython",
    "version": 3
   },
   "file_extension": ".py",
   "mimetype": "text/x-python",
   "name": "python",
   "nbconvert_exporter": "python",
   "pygments_lexer": "ipython3",
   "version": "3.11.3"
  }
 },
 "nbformat": 4,
 "nbformat_minor": 2
}
