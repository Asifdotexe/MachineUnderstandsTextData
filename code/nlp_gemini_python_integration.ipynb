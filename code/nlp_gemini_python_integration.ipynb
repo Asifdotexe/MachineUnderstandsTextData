{
 "cells": [
  {
   "cell_type": "code",
   "execution_count": 6,
   "metadata": {},
   "outputs": [],
   "source": [
    "# !pip install -q -U google-generativeai\n",
    "# !pip install python-dotenv"
   ]
  },
  {
   "cell_type": "code",
   "execution_count": 8,
   "metadata": {},
   "outputs": [],
   "source": [
    "from dotenv import load_dotenv\n",
    "import os"
   ]
  },
  {
   "cell_type": "code",
   "execution_count": 9,
   "metadata": {},
   "outputs": [
    {
     "data": {
      "text/plain": [
       "True"
      ]
     },
     "execution_count": 9,
     "metadata": {},
     "output_type": "execute_result"
    }
   ],
   "source": [
    "load_dotenv()"
   ]
  },
  {
   "cell_type": "code",
   "execution_count": 12,
   "metadata": {},
   "outputs": [],
   "source": [
    "api_key = os.getenv('API_KEY')"
   ]
  },
  {
   "cell_type": "code",
   "execution_count": 15,
   "metadata": {},
   "outputs": [
    {
     "name": "stderr",
     "output_type": "stream",
     "text": [
      "c:\\Users\\Asif Sayyed\\Documents\\GitHub\\MachineUnderstandsTextData\\venv\\Lib\\site-packages\\tqdm\\auto.py:21: TqdmWarning: IProgress not found. Please update jupyter and ipywidgets. See https://ipywidgets.readthedocs.io/en/stable/user_install.html\n",
      "  from .autonotebook import tqdm as notebook_tqdm\n"
     ]
    }
   ],
   "source": [
    "import google.generativeai as genai\n",
    "import os\n",
    "\n",
    "genai.configure(api_key=os.environ[\"API_KEY\"])\n",
    "\n",
    "model = genai.GenerativeModel('gemini-1.5-flash')"
   ]
  },
  {
   "cell_type": "code",
   "execution_count": 16,
   "metadata": {},
   "outputs": [
    {
     "name": "stdout",
     "output_type": "stream",
     "text": [
      "## Jon Jones: A Controversial Champion \n",
      "\n",
      "Jon Jones is widely considered one of the greatest mixed martial artists of all time, but his career is also marked by controversy and a long list of transgressions. Here's a breakdown of his story:\n",
      "\n",
      "**Rise to the Top:**\n",
      "\n",
      "* **Early Career:** Jones began his professional career in 2008 and quickly rose through the ranks.\n",
      "* **UFC Debut:** In 2008, he made his UFC debut and earned a unanimous decision victory. \n",
      "* **Champion at 23:** In 2011, at the young age of 23, he defeated Mauricio \"Shogun\" Rua to become the youngest UFC champion ever.\n",
      "* **Dominant Reign:** He defended his title nine times, showcasing an unparalleled combination of athleticism, technique, and fighting IQ. He defeated legendary fighters like Lyoto Machida, Rashad Evans, and Alexander Gustafsson. \n",
      "\n",
      "**Controversies and Suspensions:**\n",
      "\n",
      "* **Drug Test Failures:** Jones has had multiple failed drug tests throughout his career, including for cocaine, steroids, and other banned substances. This has led to suspensions and stripped titles.\n",
      "* **Hit-and-Run Incident:** In 2015, Jones was involved in a hit-and-run incident involving a pregnant woman. He pleaded guilty to a felony charge and was sentenced to probation.\n",
      "* **Numerous Other Controversies:** Jones has also been involved in other controversies, including public brawls and verbal altercations with other fighters.\n",
      "\n",
      "**Return and Heavyweight Title:**\n",
      "\n",
      "* **Heavyweight Switch:** After years of dominance at Light Heavyweight, Jones moved up to the Heavyweight division.\n",
      "* **Heavyweight Champion:** In 2023, he defeated Ciryl Gane to become the Heavyweight champion.\n",
      "* **Second Title:** This made him only the fifth fighter in UFC history to hold titles in two different weight classes.\n",
      "\n",
      "**Legacy:**\n",
      "\n",
      "Jones's legacy is complicated. While his fighting skills are undeniable, his repeated transgressions have tarnished his image and left fans wondering if he truly deserves his place among the greats. \n",
      "\n",
      "**Key Points:**\n",
      "\n",
      "* **Undisputed talent:**  Jones is a dominant force with incredible athleticism, striking, and grappling skills.\n",
      "* **Controversial past:**  His off-the-mat behavior has been plagued by drug use, legal troubles, and reckless behavior.\n",
      "* **Second-chance champion:** Despite his controversies, he's managed to regain his championship status in a new weight class. \n",
      "* **Debatable legacy:** Jones's legacy will likely be debated for years to come, with some acknowledging his dominance while others question his character. \n",
      "\n",
      "Overall, Jon Jones is a complex figure in the world of MMA. He's a gifted athlete with a troubled past. While his achievements in the octagon are undeniable, his future remains uncertain and his legacy will be forever debated.\n",
      "\n"
     ]
    }
   ],
   "source": [
    "response = model.generate_content(\"Tell me about UFC Fighter Jon Jones\")\n",
    "print(response.text)"
   ]
  },
  {
   "cell_type": "code",
   "execution_count": null,
   "metadata": {},
   "outputs": [],
   "source": [
    "\n"
   ]
  }
 ],
 "metadata": {
  "kernelspec": {
   "display_name": "venv",
   "language": "python",
   "name": "python3"
  },
  "language_info": {
   "codemirror_mode": {
    "name": "ipython",
    "version": 3
   },
   "file_extension": ".py",
   "mimetype": "text/x-python",
   "name": "python",
   "nbconvert_exporter": "python",
   "pygments_lexer": "ipython3",
   "version": "3.11.3"
  }
 },
 "nbformat": 4,
 "nbformat_minor": 2
}
