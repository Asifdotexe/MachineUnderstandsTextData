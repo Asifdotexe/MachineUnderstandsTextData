{
 "cells": [
  {
   "cell_type": "code",
   "execution_count": 1,
   "metadata": {},
   "outputs": [],
   "source": [
    "# !pip install -q -U google-generativeai\n",
    "# !pip install python-dotenv"
   ]
  },
  {
   "cell_type": "code",
   "execution_count": 2,
   "metadata": {},
   "outputs": [],
   "source": [
    "from dotenv import load_dotenv\n",
    "import os"
   ]
  },
  {
   "cell_type": "code",
   "execution_count": 3,
   "metadata": {},
   "outputs": [
    {
     "data": {
      "text/plain": [
       "True"
      ]
     },
     "execution_count": 3,
     "metadata": {},
     "output_type": "execute_result"
    }
   ],
   "source": [
    "load_dotenv()"
   ]
  },
  {
   "cell_type": "code",
   "execution_count": 4,
   "metadata": {},
   "outputs": [],
   "source": [
    "api_key = os.getenv('API_KEY')"
   ]
  },
  {
   "cell_type": "code",
   "execution_count": 5,
   "metadata": {},
   "outputs": [
    {
     "name": "stderr",
     "output_type": "stream",
     "text": [
      "d:\\Personal\\Github\\MachineUnderstandsTextData\\venv\\Lib\\site-packages\\tqdm\\auto.py:21: TqdmWarning: IProgress not found. Please update jupyter and ipywidgets. See https://ipywidgets.readthedocs.io/en/stable/user_install.html\n",
      "  from .autonotebook import tqdm as notebook_tqdm\n"
     ]
    }
   ],
   "source": [
    "import google.generativeai as genai\n",
    "import os\n",
    "\n",
    "genai.configure(api_key=os.environ[\"API_KEY\"])\n",
    "\n",
    "model = genai.GenerativeModel('gemini-1.5-flash')"
   ]
  },
  {
   "cell_type": "code",
   "execution_count": 6,
   "metadata": {},
   "outputs": [
    {
     "name": "stdout",
     "output_type": "stream",
     "text": [
      "## Jon Jones: A Controversial Champion\n",
      "\n",
      "Jon Jones is a mixed martial artist widely considered one of the greatest fighters of all time. Known for his incredible athleticism, technical skill, and dominance, he's also infamous for his controversies both inside and outside the octagon.\n",
      "\n",
      "**His Achievements:**\n",
      "\n",
      "* **Former UFC Light Heavyweight Champion:** Jones held the title for a record 1,520 days, defending it 11 times.\n",
      "* **Undefeated:** He boasts a record of 27 wins (15 by KO/TKO, 9 by submission, 3 by decision), with only one loss (which was later overturned to a no contest).\n",
      "* **Dominant Performances:** Jones consistently overwhelms opponents with his speed, agility, and striking prowess. He's also known for his impressive grappling skills and ability to control the fight from the top.\n",
      "* **Top Ranked P4P:**  Jones is often ranked as one of the best pound-for-pound fighters in the world.\n",
      "\n",
      "**His Controversies:**\n",
      "\n",
      "* **Multiple Doping Violations:** Jones has tested positive for performance-enhancing drugs on multiple occasions, leading to suspensions and stripping of his championship title.\n",
      "* **Legal Issues:** Jones has faced a number of legal troubles, including DUI charges and a hit-and-run accident.\n",
      "* **Unprofessional Conduct:** He has been known to engage in trash-talking and showmanship that has often crossed the line into disrespect and hostility towards opponents.\n",
      "\n",
      "**Current Status:**\n",
      "\n",
      "* **Return to Heavyweight:** Jones is currently preparing to make his highly anticipated return to the UFC in the heavyweight division, after moving up from light heavyweight.\n",
      "* **Striving for Redemption:**  He has expressed a desire to regain the respect of the fans and solidify his legacy by finally becoming undisputed heavyweight champion.\n",
      "\n",
      "**Legacy:**\n",
      "\n",
      "Jon Jones is a complex figure. He's a talented fighter with incredible potential, but his controversies have tarnished his reputation and overshadowed his accomplishments. Whether he will be remembered as a legend or a cautionary tale ultimately depends on how he manages his career and personal life in the years to come. \n",
      "\n"
     ]
    }
   ],
   "source": [
    "response = model.generate_content(\"Tell me about UFC Fighter Jon Jones\")\n",
    "print(response.text)"
   ]
  },
  {
   "cell_type": "code",
   "execution_count": 8,
   "metadata": {},
   "outputs": [],
   "source": [
    "import tkinter as tk\n",
    "from tkinter import scrolledtext, font\n",
    "from dotenv import load_dotenv\n",
    "import os\n",
    "import google.generativeai as genai\n",
    "\n",
    "# Load environment variables\n",
    "load_dotenv()\n",
    "\n",
    "# Configure Gemini\n",
    "genai.configure(api_key=os.getenv('API_KEY'))\n",
    "model = genai.GenerativeModel('gemini-1.5-flash')\n",
    "\n",
    "# Function to get a response from Gemini API\n",
    "def get_response(user_input):\n",
    "    try:\n",
    "        response = model.generate_content(user_input)\n",
    "        return response.text\n",
    "    except Exception as e:\n",
    "        return f\"Error: {str(e)}\"\n",
    "\n",
    "# Function to handle user input and update the chat window\n",
    "def send_message():\n",
    "    user_input = user_entry.get()\n",
    "    if user_input.strip() != \"\":\n",
    "        # Display user message in the chat window\n",
    "        chat_window.config(state=tk.NORMAL)\n",
    "        chat_window.insert(tk.END, \"You: \" + user_input + \"\\n\", 'user')\n",
    "        \n",
    "        # Get response from the model\n",
    "        response = get_response(user_input)\n",
    "        chat_window.insert(tk.END, \"Gemini: \" + response + \"\\n\", 'bot')\n",
    "        chat_window.config(state=tk.DISABLED)\n",
    "        \n",
    "        # Clear the input field\n",
    "        user_entry.delete(0, tk.END)\n",
    "\n",
    "        # Auto-scroll to the bottom of the chat\n",
    "        chat_window.yview(tk.END)\n",
    "\n",
    "# Set up the main Tkinter window\n",
    "root = tk.Tk()\n",
    "root.title(\"Gemini Chat Interface\")\n",
    "root.geometry(\"600x600\")\n",
    "root.config(bg='#282c34')\n",
    "\n",
    "# Set custom fonts\n",
    "user_font = font.Font(family=\"Helvetica\", size=10, weight='bold')\n",
    "bot_font = font.Font(family=\"Helvetica\", size=10)\n",
    "input_font = font.Font(family=\"Helvetica\", size=12)\n",
    "\n",
    "# Chat display window\n",
    "chat_window = scrolledtext.ScrolledText(root, wrap=tk.WORD, state=tk.DISABLED, bg=\"#f0f0f0\", fg=\"#000\", padx=10, pady=10)\n",
    "chat_window.pack(padx=10, pady=10, fill=tk.BOTH, expand=True)\n",
    "\n",
    "# Add tags for styling user and bot messages\n",
    "chat_window.tag_config('user', foreground=\"#008080\", font=user_font)  # Teal color for user messages\n",
    "chat_window.tag_config('bot', foreground=\"#0000ff\", font=bot_font)    # Blue color for bot messages\n",
    "\n",
    "# User input field\n",
    "user_entry = tk.Entry(root, font=input_font, width=80, bg=\"#e0e0e0\", fg=\"#000\", bd=2)\n",
    "user_entry.pack(padx=10, pady=10, side=tk.LEFT, fill=tk.X, expand=True)\n",
    "\n",
    "# Send button to submit the user input\n",
    "send_button = tk.Button(root, text=\"Send\", command=send_message, bg=\"#61afef\", fg=\"white\", font=input_font, relief=\"raised\")\n",
    "send_button.pack(padx=10, pady=10, side=tk.RIGHT)\n",
    "\n",
    "# Run the Tkinter event loop\n",
    "root.mainloop()"
   ]
  },
  {
   "cell_type": "code",
   "execution_count": null,
   "metadata": {},
   "outputs": [],
   "source": []
  }
 ],
 "metadata": {
  "kernelspec": {
   "display_name": "venv",
   "language": "python",
   "name": "python3"
  },
  "language_info": {
   "codemirror_mode": {
    "name": "ipython",
    "version": 3
   },
   "file_extension": ".py",
   "mimetype": "text/x-python",
   "name": "python",
   "nbconvert_exporter": "python",
   "pygments_lexer": "ipython3",
   "version": "3.11.3"
  }
 },
 "nbformat": 4,
 "nbformat_minor": 2
}
