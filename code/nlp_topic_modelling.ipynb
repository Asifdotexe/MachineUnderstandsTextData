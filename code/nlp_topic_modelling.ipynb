{
 "cells": [
  {
   "cell_type": "markdown",
   "metadata": {},
   "source": [
    "# Topic Modelling"
   ]
  },
  {
   "cell_type": "code",
   "execution_count": 17,
   "metadata": {},
   "outputs": [],
   "source": [
    "import gensim\n",
    "import nltk\n",
    "import gensim.corpora as corpora\n",
    "from gensim.models import LdaModel\n",
    "from nltk.corpus import stopwords\n",
    "from nltk.stem.wordnet import WordNetLemmatizer\n",
    "import spacy\n",
    "import re\n",
    "import pyLDAvis\n",
    "import pyLDAvis.gensim_models as gensimvis\n",
    "\n",
    "# nltk.download('wordnet')\n",
    "# nltk.download('omw-1.4')\n",
    "# nltk.download('punkt')\n",
    "# nltk.download('stopwords')\n",
    "# !python -m spacy download en_core_web_sm\n",
    "\n",
    "# for visualizing\n",
    "# !pip install pyLDAvis"
   ]
  },
  {
   "cell_type": "code",
   "execution_count": 27,
   "metadata": {},
   "outputs": [],
   "source": [
    "# defining the corpus\n",
    "documents = [\n",
    "    \"The animated series captivated audiences with its vibrant characters and humorous storylines.\",\n",
    "    \"Cartoon Network's iconic shows from the 90s remain beloved by fans of all ages.\",\n",
    "    \"The art of animation has evolved significantly, blending traditional techniques with digital technology.\",\n",
    "    \"Saturday morning cartoons were a staple of childhood entertainment for many generations.\",\n",
    "    \"The latest cartoon movie features a heartwarming tale of friendship and adventure.\",\n",
    "    \"The impact of World War II was felt across the globe, altering the course of history.\",\n",
    "    \"Soldiers in the trenches faced unimaginable hardships during the war.\",\n",
    "    \"The strategies used in modern warfare have evolved with advancements in military technology.\",\n",
    "    \"War has profound effects on both the soldiers who fight and the civilians caught in the crossfire.\",\n",
    "    \"The Cold War era was marked by political tension and the threat of nuclear conflict.\",\n",
    "    ]"
   ]
  },
  {
   "cell_type": "code",
   "execution_count": 28,
   "metadata": {},
   "outputs": [],
   "source": [
    "nlp = spacy.load('en_core_web_sm')"
   ]
  },
  {
   "cell_type": "code",
   "execution_count": 29,
   "metadata": {},
   "outputs": [],
   "source": [
    "stop_words = set(stopwords.words('english'))\n",
    "lemmatizer = WordNetLemmatizer()\n",
    "\n",
    "def preprocess(text):\n",
    "    text = text.lower()\n",
    "    tokens = text.split()\n",
    "    tokens = [lemmatizer.lemmatize(token) for token in tokens if token not in stop_words]\n",
    "    return tokens\n",
    "\n",
    "processed_docs = [preprocess(doc) for doc in documents]"
   ]
  },
  {
   "cell_type": "code",
   "execution_count": 30,
   "metadata": {},
   "outputs": [
    {
     "name": "stdout",
     "output_type": "stream",
     "text": [
      "[[(0, 1), (1, 1), (2, 1), (3, 1), (4, 1), (5, 1), (6, 1), (7, 1)], [(8, 1), (9, 1), (10, 1), (11, 1), (12, 1), (13, 1), (14, 1), (15, 1), (16, 1)], [(17, 1), (18, 1), (19, 1), (20, 1), (21, 1), (22, 1), (23, 1), (24, 1), (25, 1)], [(11, 1), (26, 1), (27, 1), (28, 1), (29, 1), (30, 1), (31, 1), (32, 1)], [(11, 1), (33, 1), (34, 1), (35, 1), (36, 1), (37, 1), (38, 1), (39, 1)], [(40, 1), (41, 1), (42, 1), (43, 1), (44, 1), (45, 1), (46, 1), (47, 1), (48, 1), (49, 1)], [(50, 1), (51, 1), (52, 1), (53, 1), (54, 1), (55, 1)], [(21, 1), (24, 1), (56, 1), (57, 1), (58, 1), (59, 1), (60, 1), (61, 1)], [(48, 1), (52, 1), (62, 1), (63, 1), (64, 1), (65, 1), (66, 1), (67, 1)], [(48, 1), (68, 1), (69, 1), (70, 1), (71, 1), (72, 1), (73, 1), (74, 1), (75, 1)]]\n"
     ]
    }
   ],
   "source": [
    "id2words = corpora.Dictionary(processed_docs)\n",
    "corpus = [id2words.doc2bow(text) for text in processed_docs]\n",
    "print(corpus)"
   ]
  },
  {
   "cell_type": "code",
   "execution_count": 31,
   "metadata": {},
   "outputs": [
    {
     "data": {
      "text/plain": [
       "(0,\n",
       " '0.043*\"war\" + 0.019*\"cartoon\" + 0.019*\"altering\" + 0.019*\"across\" + 0.019*\"humorous\" + 0.019*\"history.\" + 0.019*\"impact\" + 0.019*\"globe,\" + 0.019*\"felt\" + 0.019*\"animated\"')"
      ]
     },
     "metadata": {},
     "output_type": "display_data"
    },
    {
     "data": {
      "text/plain": [
       "(1,\n",
       " '0.032*\"cartoon\" + 0.032*\"evolved\" + 0.032*\"technology.\" + 0.019*\"soldier\" + 0.019*\"digital\" + 0.019*\"trench\" + 0.019*\"technique\" + 0.019*\"animation\" + 0.019*\"significantly,\" + 0.019*\"blending\"')"
      ]
     },
     "metadata": {},
     "output_type": "display_data"
    }
   ],
   "source": [
    "# building the model\n",
    "lda_model = LdaModel(\n",
    "    corpus = corpus,\n",
    "    id2word=id2words,\n",
    "    num_topics=2,\n",
    "    random_state=42,\n",
    "    update_every=1,\n",
    "    chunksize=10,\n",
    "    passes=10,\n",
    "    alpha='auto',\n",
    "    )\n",
    "\n",
    "topics = lda_model.print_topics()\n",
    "for topic in topics:\n",
    "    display(topic)"
   ]
  },
  {
   "cell_type": "code",
   "execution_count": 32,
   "metadata": {},
   "outputs": [
    {
     "data": {
      "text/html": [
       "\n",
       "<link rel=\"stylesheet\" type=\"text/css\" href=\"https://cdn.jsdelivr.net/gh/bmabey/pyLDAvis@3.4.0/pyLDAvis/js/ldavis.v1.0.0.css\">\n",
       "\n",
       "\n",
       "<div id=\"ldavis_el180483152170119712583991484\" style=\"background-color:white;\"></div>\n",
       "<script type=\"text/javascript\">\n",
       "\n",
       "var ldavis_el180483152170119712583991484_data = {\"mdsDat\": {\"x\": [0.0667967533779056, -0.0667967533779056], \"y\": [0.0, 0.0], \"topics\": [1, 2], \"cluster\": [1, 1], \"Freq\": [51.809020295606544, 48.19097970439346]}, \"tinfo\": {\"Term\": [\"war\", \"evolved\", \"technology.\", \"digital\", \"trench\", \"technique\", \"animation\", \"significantly,\", \"blending\", \"art\", \"traditional\", \"faced\", \"modern\", \"hardship\", \"warfare\", \"unimaginable\", \"used\", \"war.\", \"military\", \"advancement\", \"strategy\", \"saturday\", \"staple\", \"network's\", \"iconic\", \"ages.\", \"generations.\", \"90\", \"remain\", \"childhood\", \"war\", \"altering\", \"across\", \"humorous\", \"history.\", \"impact\", \"globe,\", \"felt\", \"animated\", \"captivated\", \"course\", \"ii\", \"vibrant\", \"audience\", \"world\", \"storylines.\", \"character\", \"series\", \"tension\", \"conflict.\", \"nuclear\", \"political\", \"cold\", \"marked\", \"era\", \"threat\", \"feature\", \"adventure.\", \"friendship\", \"tale\", \"cartoon\", \"evolved\", \"technology.\", \"digital\", \"trench\", \"technique\", \"animation\", \"significantly,\", \"blending\", \"art\", \"traditional\", \"faced\", \"modern\", \"hardship\", \"warfare\", \"unimaginable\", \"used\", \"war.\", \"military\", \"advancement\", \"strategy\", \"saturday\", \"staple\", \"network's\", \"iconic\", \"ages.\", \"generations.\", \"90\", \"remain\", \"childhood\", \"morning\", \"cartoon\", \"soldier\"], \"Freq\": [2.0, 1.0, 1.0, 1.0, 1.0, 1.0, 1.0, 1.0, 1.0, 1.0, 1.0, 1.0, 1.0, 1.0, 1.0, 1.0, 1.0, 1.0, 1.0, 1.0, 1.0, 1.0, 1.0, 1.0, 1.0, 1.0, 1.0, 1.0, 1.0, 1.0, 1.8548636327360513, 0.7965921629050344, 0.7965485904029399, 0.7965368162157931, 0.7965349739960355, 0.7965171124740371, 0.7965165517984587, 0.7965062994450247, 0.7964986101799493, 0.7964941247753219, 0.7964828311672423, 0.7964772244114581, 0.7964678531196473, 0.7964469479302233, 0.7964416615604839, 0.7964411809814166, 0.7964061788060209, 0.7963818294666152, 0.7963320094366468, 0.7963115047297789, 0.796252393504511, 0.7962382164220281, 0.7961944036304, 0.7960598414915788, 0.7960443027684054, 0.7958487070880476, 0.7956253980148134, 0.7955287215257912, 0.7953510674639429, 0.7952541506853872, 0.7968102657050403, 1.2804750511705454, 1.2803127835563899, 0.7683513831069034, 0.7683513086038667, 0.7683344709175494, 0.7683325338385925, 0.7683261265774275, 0.768325158037949, 0.7683220289104034, 0.768318750776784, 0.7682744959729234, 0.7682688337421264, 0.7682574347774956, 0.768248643419153, 0.7682470043523433, 0.7682217478228673, 0.768180026122258, 0.7681609533448366, 0.7681491073619849, 0.7679668729339663, 0.7678985536492184, 0.7678500521722601, 0.7677931318521432, 0.7677835954634324, 0.7677593819764716, 0.7677457479207368, 0.7677315178407075, 0.767686070988258, 0.7676811537878291, 0.7676586538707147, 1.2811671843824397, 0.7727618138795318], \"Total\": [2.0, 1.0, 1.0, 1.0, 1.0, 1.0, 1.0, 1.0, 1.0, 1.0, 1.0, 1.0, 1.0, 1.0, 1.0, 1.0, 1.0, 1.0, 1.0, 1.0, 1.0, 1.0, 1.0, 1.0, 1.0, 1.0, 1.0, 1.0, 1.0, 1.0, 2.1153769673395377, 1.0530621059466998, 1.0530605159058433, 1.0530600848060496, 1.0530599747818976, 1.0530593234614007, 1.0530593960616352, 1.0530589408575408, 1.0530586832703863, 1.0530585004161344, 1.0530581401287054, 1.0530579720946078, 1.0530575597929723, 1.053056863552281, 1.0530566433890443, 1.053056628453957, 1.0530553575284736, 1.0530545511486973, 1.0530527855774667, 1.053052098678388, 1.0530500195277925, 1.0530494951268037, 1.0530479255570424, 1.053043147708331, 1.0530426585985917, 1.05303564873014, 1.0530278024393382, 1.0530243478751151, 1.0530180880494306, 1.0530146539563028, 2.07797745008748, 1.546775906768817, 1.546781941948827, 1.0343077436104906, 1.0343076891315817, 1.0343083124847066, 1.0343084178667854, 1.034308678640178, 1.0343086512347062, 1.03430880606412, 1.0343089320322267, 1.034310512456902, 1.0343107172955506, 1.0343110925180667, 1.0343114521861292, 1.0343115151701823, 1.034312430175742, 1.0343139205429268, 1.0343146316037726, 1.0343150804353907, 1.0343217536290443, 1.0343243197567111, 1.0343260187681493, 1.0343282497215558, 1.034328485107212, 1.034329421924769, 1.0343298448067502, 1.0343304325812934, 1.0343321025015593, 1.0343322714295917, 1.0343330795972374, 2.07797745008748, 1.5653729398882401], \"Category\": [\"Default\", \"Default\", \"Default\", \"Default\", \"Default\", \"Default\", \"Default\", \"Default\", \"Default\", \"Default\", \"Default\", \"Default\", \"Default\", \"Default\", \"Default\", \"Default\", \"Default\", \"Default\", \"Default\", \"Default\", \"Default\", \"Default\", \"Default\", \"Default\", \"Default\", \"Default\", \"Default\", \"Default\", \"Default\", \"Default\", \"Topic1\", \"Topic1\", \"Topic1\", \"Topic1\", \"Topic1\", \"Topic1\", \"Topic1\", \"Topic1\", \"Topic1\", \"Topic1\", \"Topic1\", \"Topic1\", \"Topic1\", \"Topic1\", \"Topic1\", \"Topic1\", \"Topic1\", \"Topic1\", \"Topic1\", \"Topic1\", \"Topic1\", \"Topic1\", \"Topic1\", \"Topic1\", \"Topic1\", \"Topic1\", \"Topic1\", \"Topic1\", \"Topic1\", \"Topic1\", \"Topic1\", \"Topic2\", \"Topic2\", \"Topic2\", \"Topic2\", \"Topic2\", \"Topic2\", \"Topic2\", \"Topic2\", \"Topic2\", \"Topic2\", \"Topic2\", \"Topic2\", \"Topic2\", \"Topic2\", \"Topic2\", \"Topic2\", \"Topic2\", \"Topic2\", \"Topic2\", \"Topic2\", \"Topic2\", \"Topic2\", \"Topic2\", \"Topic2\", \"Topic2\", \"Topic2\", \"Topic2\", \"Topic2\", \"Topic2\", \"Topic2\", \"Topic2\", \"Topic2\"], \"logprob\": [30.0, 29.0, 28.0, 27.0, 26.0, 25.0, 24.0, 23.0, 22.0, 21.0, 20.0, 19.0, 18.0, 17.0, 16.0, 15.0, 14.0, 13.0, 12.0, 11.0, 10.0, 9.0, 8.0, 7.0, 6.0, 5.0, 4.0, 3.0, 2.0, 1.0, -3.1434, -3.9886, -3.9887, -3.9887, -3.9887, -3.9887, -3.9887, -3.9888, -3.9888, -3.9888, -3.9888, -3.9888, -3.9888, -3.9888, -3.9888, -3.9888, -3.9889, -3.9889, -3.989, -3.989, -3.9891, -3.9891, -3.9891, -3.9893, -3.9893, -3.9896, -3.9899, -3.99, -3.9902, -3.9903, -3.9884, -3.4416, -3.4417, -3.9524, -3.9524, -3.9524, -3.9524, -3.9524, -3.9524, -3.9524, -3.9524, -3.9525, -3.9525, -3.9525, -3.9525, -3.9525, -3.9525, -3.9526, -3.9526, -3.9526, -3.9529, -3.9529, -3.953, -3.9531, -3.9531, -3.9531, -3.9531, -3.9532, -3.9532, -3.9532, -3.9533, -3.4411, -3.9466], \"loglift\": [30.0, 29.0, 28.0, 27.0, 26.0, 25.0, 24.0, 23.0, 22.0, 21.0, 20.0, 19.0, 18.0, 17.0, 16.0, 15.0, 14.0, 13.0, 12.0, 11.0, 10.0, 9.0, 8.0, 7.0, 6.0, 5.0, 4.0, 3.0, 2.0, 1.0, 0.5262, 0.3785, 0.3784, 0.3784, 0.3784, 0.3784, 0.3784, 0.3784, 0.3784, 0.3784, 0.3784, 0.3784, 0.3783, 0.3783, 0.3783, 0.3783, 0.3783, 0.3782, 0.3782, 0.3781, 0.3781, 0.3781, 0.378, 0.3778, 0.3778, 0.3776, 0.3773, 0.3772, 0.377, 0.3769, -0.3009, 0.5411, 0.5409, 0.4328, 0.4328, 0.4327, 0.4327, 0.4327, 0.4327, 0.4327, 0.4327, 0.4327, 0.4326, 0.4326, 0.4326, 0.4326, 0.4326, 0.4325, 0.4325, 0.4325, 0.4322, 0.4322, 0.4321, 0.432, 0.432, 0.432, 0.4319, 0.4319, 0.4319, 0.4319, 0.4318, 0.2464, 0.0241]}, \"token.table\": {\"Topic\": [2, 1, 2, 1, 2, 1, 1, 2, 2, 1, 2, 1, 1, 2, 1, 2, 1, 1, 1, 2, 1, 2, 2, 1, 1, 1, 2, 1, 2, 1, 1, 2, 1, 1, 1, 2, 2, 2, 2, 1, 1, 2, 2, 1, 2, 1, 2, 2, 1, 2, 1, 2, 2, 1, 1, 2, 2, 2, 2, 1, 1, 2, 2, 1], \"Freq\": [0.9668090278503961, 0.9496130420765034, 0.966823378016546, 0.9496456582584132, 0.9668099725318788, 0.9496116082355873, 0.9496146946857634, 0.9668296058756392, 0.9668292430046341, 0.9496163356522799, 0.9668293877328105, 0.9496148595779177, 0.48123717606170435, 0.48123717606170435, 0.9496176937430956, 0.9668073090457289, 0.9496243957472486, 0.9496206324976989, 0.9496151844738406, 0.966830236143518, 0.9496291454429948, 0.6465060618179523, 0.9668276479416217, 0.9496425428497716, 0.9496144624019496, 0.9496513035710153, 0.9668095772551509, 0.9496140519138109, 0.9668271057264453, 0.949613530043351, 0.9496134308273377, 0.9668108481962054, 0.9496153360018046, 0.9496141173823, 0.9496287043662309, 0.9668237975609361, 0.9668274564675652, 0.9668065536387886, 0.9668110682166933, 0.9496225074364643, 0.9496229803325478, 0.9668074669455524, 0.9668147416617017, 0.9496184209157786, 0.9668293621152979, 0.6388254035306086, 0.6388254035306086, 0.9668131535460835, 0.9496165476572214, 0.9668171403060776, 0.9496544005754143, 0.9668297043825471, 0.6465035393030749, 0.9496200130667012, 0.9496354669529983, 0.966829125254854, 0.9668302870682641, 0.9668267106505753, 0.966825855346327, 0.9496157078029018, 0.9454579637006048, 0.9668244622242782, 0.9668267695251674, 0.9496165341891843], \"Term\": [\"90\", \"across\", \"advancement\", \"adventure.\", \"ages.\", \"altering\", \"animated\", \"animation\", \"art\", \"audience\", \"blending\", \"captivated\", \"cartoon\", \"cartoon\", \"character\", \"childhood\", \"cold\", \"conflict.\", \"course\", \"digital\", \"era\", \"evolved\", \"faced\", \"feature\", \"felt\", \"friendship\", \"generations.\", \"globe,\", \"hardship\", \"history.\", \"humorous\", \"iconic\", \"ii\", \"impact\", \"marked\", \"military\", \"modern\", \"morning\", \"network's\", \"nuclear\", \"political\", \"remain\", \"saturday\", \"series\", \"significantly,\", \"soldier\", \"soldier\", \"staple\", \"storylines.\", \"strategy\", \"tale\", \"technique\", \"technology.\", \"tension\", \"threat\", \"traditional\", \"trench\", \"unimaginable\", \"used\", \"vibrant\", \"war\", \"war.\", \"warfare\", \"world\"]}, \"R\": 30, \"lambda.step\": 0.01, \"plot.opts\": {\"xlab\": \"PC1\", \"ylab\": \"PC2\"}, \"topic.order\": [1, 2]};\n",
       "\n",
       "function LDAvis_load_lib(url, callback){\n",
       "  var s = document.createElement('script');\n",
       "  s.src = url;\n",
       "  s.async = true;\n",
       "  s.onreadystatechange = s.onload = callback;\n",
       "  s.onerror = function(){console.warn(\"failed to load library \" + url);};\n",
       "  document.getElementsByTagName(\"head\")[0].appendChild(s);\n",
       "}\n",
       "\n",
       "if(typeof(LDAvis) !== \"undefined\"){\n",
       "   // already loaded: just create the visualization\n",
       "   !function(LDAvis){\n",
       "       new LDAvis(\"#\" + \"ldavis_el180483152170119712583991484\", ldavis_el180483152170119712583991484_data);\n",
       "   }(LDAvis);\n",
       "}else if(typeof define === \"function\" && define.amd){\n",
       "   // require.js is available: use it to load d3/LDAvis\n",
       "   require.config({paths: {d3: \"https://d3js.org/d3.v5\"}});\n",
       "   require([\"d3\"], function(d3){\n",
       "      window.d3 = d3;\n",
       "      LDAvis_load_lib(\"https://cdn.jsdelivr.net/gh/bmabey/pyLDAvis@3.4.0/pyLDAvis/js/ldavis.v3.0.0.js\", function(){\n",
       "        new LDAvis(\"#\" + \"ldavis_el180483152170119712583991484\", ldavis_el180483152170119712583991484_data);\n",
       "      });\n",
       "    });\n",
       "}else{\n",
       "    // require.js not available: dynamically load d3 & LDAvis\n",
       "    LDAvis_load_lib(\"https://d3js.org/d3.v5.js\", function(){\n",
       "         LDAvis_load_lib(\"https://cdn.jsdelivr.net/gh/bmabey/pyLDAvis@3.4.0/pyLDAvis/js/ldavis.v3.0.0.js\", function(){\n",
       "                 new LDAvis(\"#\" + \"ldavis_el180483152170119712583991484\", ldavis_el180483152170119712583991484_data);\n",
       "            })\n",
       "         });\n",
       "}\n",
       "</script>"
      ],
      "text/plain": [
       "<IPython.core.display.HTML object>"
      ]
     },
     "execution_count": 32,
     "metadata": {},
     "output_type": "execute_result"
    }
   ],
   "source": [
    "# Visualization\n",
    "\n",
    "lda_vis = gensimvis.prepare(lda_model, corpus, id2words)\n",
    "pyLDAvis.display(lda_vis)"
   ]
  },
  {
   "cell_type": "code",
   "execution_count": null,
   "metadata": {},
   "outputs": [],
   "source": []
  }
 ],
 "metadata": {
  "kernelspec": {
   "display_name": "venv",
   "language": "python",
   "name": "python3"
  },
  "language_info": {
   "codemirror_mode": {
    "name": "ipython",
    "version": 3
   },
   "file_extension": ".py",
   "mimetype": "text/x-python",
   "name": "python",
   "nbconvert_exporter": "python",
   "pygments_lexer": "ipython3",
   "version": "3.11.3"
  }
 },
 "nbformat": 4,
 "nbformat_minor": 2
}
