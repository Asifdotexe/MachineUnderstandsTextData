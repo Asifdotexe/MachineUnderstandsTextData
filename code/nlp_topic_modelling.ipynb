{
 "cells": [
  {
   "cell_type": "markdown",
   "metadata": {},
   "source": [
    "# Topic Modelling"
   ]
  },
  {
   "cell_type": "code",
   "execution_count": 15,
   "metadata": {},
   "outputs": [],
   "source": [
    "import gensim\n",
    "import nltk\n",
    "import gensim.corpora as corpora\n",
    "from gensim.models import LdaModel\n",
    "from nltk.corpus import stopwords\n",
    "from nltk.stem.wordnet import WordNetLemmatizer\n",
    "import spacy\n",
    "import re\n",
    "import pyLDAvis as lv\n",
    "\n",
    "# nltk.download('wordnet')\n",
    "# nltk.download('omw-1.4')\n",
    "# nltk.download('punkt')\n",
    "# nltk.download('stopwords')\n",
    "# !python -m spacy download en_core_web_sm\n",
    "\n",
    "# for visualizing\n",
    "# !pip install pyLDAvis"
   ]
  },
  {
   "cell_type": "code",
   "execution_count": 5,
   "metadata": {},
   "outputs": [],
   "source": [
    "# defining the corpus\n",
    "documents = [\n",
    "    \"The company's new marketing strategy led to a significant increase in sales.\"\n",
    "    \"Advancements in AI technology are revolutionizing the healthcare industry.\"\n",
    "    \"Remote work has become more common due to the global pandemic.\"\n",
    "    \"Sustainable energy solutions are critical for reducing carbon emissions.\"\n",
    "    \"The latest smartphone model features a highly responsive screen and a sleek design.\"\n",
    "    \"E-commerce platforms have seen a surge in user engagement during the holiday season.\"\n",
    "    \"Blockchain technology offers enhanced security for financial transactions.\"\n",
    "    \"Educational institutions are increasingly adopting online learning platforms.\"\n",
    "    \"Climate change poses a serious threat to global ecosystems and biodiversity.\"\n",
    "    \"Social media influencers play a significant role in modern digital marketing campaigns.\"\n",
    "    ]"
   ]
  },
  {
   "cell_type": "code",
   "execution_count": 9,
   "metadata": {},
   "outputs": [],
   "source": [
    "nlp = spacy.load('en_core_web_sm')"
   ]
  },
  {
   "cell_type": "code",
   "execution_count": 10,
   "metadata": {},
   "outputs": [],
   "source": [
    "stop_words = set(stopwords.words('english'))\n",
    "lemmatizer = WordNetLemmatizer()\n",
    "\n",
    "def preprocess(text):\n",
    "    text = text.lower()\n",
    "    tokens = text.split()\n",
    "    tokens = [lemmatizer.lemmatize(token) for token in tokens if token not in stop_words]\n",
    "    return tokens\n",
    "\n",
    "processed_docs = [preprocess(doc) for doc in documents]"
   ]
  },
  {
   "cell_type": "code",
   "execution_count": 12,
   "metadata": {},
   "outputs": [
    {
     "name": "stdout",
     "output_type": "stream",
     "text": [
      "[[(0, 1), (1, 1), (2, 1), (3, 1), (4, 1), (5, 1), (6, 1), (7, 1), (8, 1), (9, 1), (10, 1), (11, 1), (12, 1), (13, 1), (14, 1), (15, 1), (16, 1), (17, 1), (18, 1), (19, 1), (20, 2), (21, 1), (22, 1), (23, 1), (24, 1), (25, 1), (26, 1), (27, 1), (28, 1), (29, 1), (30, 1), (31, 1), (32, 2), (33, 1), (34, 1), (35, 1), (36, 1), (37, 1), (38, 1), (39, 1), (40, 1), (41, 1), (42, 1), (43, 1), (44, 1), (45, 1), (46, 1), (47, 1), (48, 1), (49, 1), (50, 1), (51, 1), (52, 1), (53, 1), (54, 2), (55, 1), (56, 1), (57, 1), (58, 1), (59, 1), (60, 2), (61, 1), (62, 1), (63, 1), (64, 1)]]\n"
     ]
    }
   ],
   "source": [
    "id2words = corpora.Dictionary(processed_docs)\n",
    "corpus = [id2words.doc2bow(text) for text in processed_docs]\n",
    "print(corpus)"
   ]
  },
  {
   "cell_type": "code",
   "execution_count": 13,
   "metadata": {},
   "outputs": [
    {
     "name": "stdout",
     "output_type": "stream",
     "text": [
      "(0, '0.016*\"global\" + 0.016*\"significant\" + 0.016*\"marketing\" + 0.016*\"technology\" + 0.015*\"responsive\" + 0.015*\"seen\" + 0.015*\"due\" + 0.015*\"ai\" + 0.015*\"sleek\" + 0.015*\"medium\"')\n",
      "(1, '0.025*\"technology\" + 0.025*\"marketing\" + 0.025*\"significant\" + 0.025*\"global\" + 0.015*\"critical\" + 0.015*\"work\" + 0.015*\"led\" + 0.015*\"engagement\" + 0.015*\"financial\" + 0.015*\"highly\"')\n"
     ]
    }
   ],
   "source": [
    "# building the model\n",
    "lda_model = LdaModel(\n",
    "    corpus = corpus,\n",
    "    id2word=id2words,\n",
    "    num_topics=2,\n",
    "    random_state=42,\n",
    "    update_every=1,\n",
    "    chunksize=10,\n",
    "    passes=10,\n",
    "    alpha='auto',\n",
    "    )\n",
    "\n",
    "topics = lda_model.print_topics()\n",
    "for topic in topics:\n",
    "    print(topic)"
   ]
  },
  {
   "cell_type": "code",
   "execution_count": null,
   "metadata": {},
   "outputs": [],
   "source": []
  }
 ],
 "metadata": {
  "kernelspec": {
   "display_name": "venv",
   "language": "python",
   "name": "python3"
  },
  "language_info": {
   "codemirror_mode": {
    "name": "ipython",
    "version": 3
   },
   "file_extension": ".py",
   "mimetype": "text/x-python",
   "name": "python",
   "nbconvert_exporter": "python",
   "pygments_lexer": "ipython3",
   "version": "3.11.3"
  }
 },
 "nbformat": 4,
 "nbformat_minor": 2
}
