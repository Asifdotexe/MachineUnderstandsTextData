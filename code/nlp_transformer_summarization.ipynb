{
 "cells": [
  {
   "cell_type": "markdown",
   "metadata": {},
   "source": [
    "# Hugging Face | Summarization Model"
   ]
  },
  {
   "cell_type": "code",
   "execution_count": 1,
   "metadata": {},
   "outputs": [
    {
     "name": "stderr",
     "output_type": "stream",
     "text": [
      "c:\\Users\\Asif Sayyed\\Documents\\GitHub\\MachineUnderstandsTextData\\venv\\Lib\\site-packages\\tqdm\\auto.py:21: TqdmWarning: IProgress not found. Please update jupyter and ipywidgets. See https://ipywidgets.readthedocs.io/en/stable/user_install.html\n",
      "  from .autonotebook import tqdm as notebook_tqdm\n",
      "No model was supplied, defaulted to sshleifer/distilbart-cnn-12-6 and revision a4f8f3e (https://huggingface.co/sshleifer/distilbart-cnn-12-6).\n",
      "Using a pipeline without specifying a model name and revision in production is not recommended.\n",
      "c:\\Users\\Asif Sayyed\\Documents\\GitHub\\MachineUnderstandsTextData\\venv\\Lib\\site-packages\\huggingface_hub\\file_download.py:159: UserWarning: `huggingface_hub` cache-system uses symlinks by default to efficiently store duplicated files but your machine does not support them in C:\\Users\\Asif Sayyed\\.cache\\huggingface\\hub\\models--sshleifer--distilbart-cnn-12-6. Caching files will still work but in a degraded version that might require more space on your disk. This warning can be disabled by setting the `HF_HUB_DISABLE_SYMLINKS_WARNING` environment variable. For more details, see https://huggingface.co/docs/huggingface_hub/how-to-cache#limitations.\n",
      "To support symlinks on Windows, you either need to activate Developer Mode or to run Python as an administrator. In order to see activate developer mode, see this article: https://docs.microsoft.com/en-us/windows/apps/get-started/enable-your-device-for-development\n",
      "  warnings.warn(message)\n",
      "c:\\Users\\Asif Sayyed\\Documents\\GitHub\\MachineUnderstandsTextData\\venv\\Lib\\site-packages\\transformers\\tokenization_utils_base.py:1601: FutureWarning: `clean_up_tokenization_spaces` was not set. It will be set to `True` by default. This behavior will be depracted in transformers v4.45, and will be then set to `False` by default. For more details check this issue: https://github.com/huggingface/transformers/issues/31884\n",
      "  warnings.warn(\n"
     ]
    },
    {
     "name": "stdout",
     "output_type": "stream",
     "text": [
      "[{'summary_text': ' The more comfortable you are, the more you are becoming worse than the more experienced you are . This is because “comfort’s not only stops growth but actually contributes negatively .'}]\n"
     ]
    }
   ],
   "source": [
    "from transformers import pipeline\n",
    "\n",
    "# Initialize the summarization pipeline\n",
    "summarizer = pipeline(\"summarization\")\n",
    "\n",
    "#Sample text\n",
    "\n",
    "text = \"\"\"I read something interesting last night, \n",
    "\n",
    "\n",
    "In a particular college, based on an IQ test the students were segregated in 2 batches - Class Above Average & Class Beloe Average.\n",
    "\n",
    "The teaching style, the exam, the reference books all differed based on their class category. This routine was followed for years until recently, when while labelling there was an error. \n",
    "Incorrectly, the “Class Above average” was labelled “Below average” and vice versa.\n",
    "\n",
    "It took college 6-7 months to realise the error and they decided that, they will reconduct the IQ test and start afresh. \n",
    "Interestingly the batch which was actually “below average” and was incorrectly labelled as “above average” performed better than the other batch ( which was actually “above average” )\n",
    "\n",
    "To avoid another blunder, the college investigated a little more and found,\n",
    "- Most of students had created their own study group, as an above average performance was expected from them and they were clearly incapable at least in the beginning. Resulting, that students were putting more hours in learning. \n",
    "- On the other hand, the students which were incorrectly labelled as “Below average” found the syllabus extremely easy and most of them started becoming comfortable. As the already better than the performance expected from them. \n",
    "- Teachers had changed their teaching style, as their transitional methods was not working. And as the class was labelled above average, they couldn’t go a complaint that it’s the students fault, rather they assumed that they need to change. \n",
    "- Teachers put less hours in the incorrectly labelled “below average” class as the class was clearly better than the their expectation. \n",
    "\n",
    "What resulted ? \n",
    "Within 6 months, the performance inverted. \n",
    "Interesting right ? Amusing actually. \n",
    "\n",
    "\n",
    "First thing to note, clearly “comfort” not only stops growth but actually contributes negatively.\n",
    "The more comfortable you are, the more you are becoming worse. \n",
    "\n",
    "Secondly, \n",
    "As a student I wonder, if my ability to learn is defined by my belief. \n",
    "As a professor, I wonder if my students ability is defined by my capability.\n",
    "\n",
    "Above all, what amazes me is … what it is to be “Above or Below” average merely a label. \n",
    "It has absolutely no relevance in one way, but it shapes everyone attitude and expectations which is significantly relevant in another way. \"\"\"\n",
    "\n",
    "# Generating a summary\n",
    "summary = summarizer(text, max_length= 100, min_length = 30, do_sample = False)"
   ]
  },
  {
   "cell_type": "code",
   "execution_count": 4,
   "metadata": {},
   "outputs": [
    {
     "data": {
      "text/plain": [
       "{'summary_text': ' The more comfortable you are, the more you are becoming worse than the more experienced you are . This is because “comfort’s not only stops growth but actually contributes negatively .'}"
      ]
     },
     "metadata": {},
     "output_type": "display_data"
    }
   ],
   "source": [
    "display(summary[0])"
   ]
  },
  {
   "cell_type": "code",
   "execution_count": null,
   "metadata": {},
   "outputs": [],
   "source": []
  }
 ],
 "metadata": {
  "kernelspec": {
   "display_name": "Python 3",
   "language": "python",
   "name": "python3"
  },
  "language_info": {
   "codemirror_mode": {
    "name": "ipython",
    "version": 3
   },
   "file_extension": ".py",
   "mimetype": "text/x-python",
   "name": "python",
   "nbconvert_exporter": "python",
   "pygments_lexer": "ipython3",
   "version": "3.11.3"
  }
 },
 "nbformat": 4,
 "nbformat_minor": 2
}
